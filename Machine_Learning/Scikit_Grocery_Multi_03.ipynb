{
 "cells": [
  {
   "cell_type": "code",
   "execution_count": 1,
   "metadata": {},
   "outputs": [],
   "source": [
    "# https://xcitech.github.io/tutorials/heroku_tutorial/\n",
    "%matplotlib inline\n",
    "import matplotlib.pyplot as plt\n",
    "import numpy as np\n",
    "import pandas\n",
    "import pandas as pd\n",
    "\n",
    "import warnings\n",
    "warnings.simplefilter('ignore', FutureWarning)"
   ]
  },
  {
   "cell_type": "code",
   "execution_count": 2,
   "metadata": {},
   "outputs": [],
   "source": [
    "# Data source is '2015_CBQ_I.csv' from NHANES 'GrocerySpending' folder\n",
    "# Columns originally named with question code (Example: CDB071)\n",
    "# Columns renamed with descriptive question ID (Example: Grocery)\n",
    "df = pd.read_csv('mldata_clean.csv', encoding='latin-1')"
   ]
  },
  {
   "cell_type": "code",
   "execution_count": 3,
   "metadata": {},
   "outputs": [],
   "source": [
    "df = df[df.G_Emp != 'j']"
   ]
  },
  {
   "cell_type": "code",
   "execution_count": 4,
   "metadata": {},
   "outputs": [
    {
     "data": {
      "text/plain": [
       "Index(['GeoID', 'Year', 'D_Etab', 'D_Emp', 'D_Pay', 'G_Etab', 'G_Emp',\n",
       "       'G_Pay'],\n",
       "      dtype='object')"
      ]
     },
     "execution_count": 4,
     "metadata": {},
     "output_type": "execute_result"
    }
   ],
   "source": [
    "df.columns"
   ]
  },
  {
   "cell_type": "code",
   "execution_count": 5,
   "metadata": {},
   "outputs": [
    {
     "data": {
      "text/plain": [
       "GeoID      int64\n",
       "Year       int64\n",
       "D_Etab     int64\n",
       "D_Emp      int64\n",
       "D_Pay      int64\n",
       "G_Etab     int64\n",
       "G_Emp     object\n",
       "G_Pay     object\n",
       "dtype: object"
      ]
     },
     "execution_count": 5,
     "metadata": {},
     "output_type": "execute_result"
    }
   ],
   "source": [
    "df.dtypes"
   ]
  },
  {
   "cell_type": "code",
   "execution_count": 6,
   "metadata": {},
   "outputs": [
    {
     "data": {
      "text/plain": [
       "GeoID     int64\n",
       "Year      int64\n",
       "D_Etab    int64\n",
       "D_Emp     int64\n",
       "D_Pay     int64\n",
       "G_Etab    int64\n",
       "G_Emp     int64\n",
       "G_Pay     int64\n",
       "dtype: object"
      ]
     },
     "execution_count": 6,
     "metadata": {},
     "output_type": "execute_result"
    }
   ],
   "source": [
    "df.astype('int64').dtypes"
   ]
  },
  {
   "cell_type": "code",
   "execution_count": 7,
   "metadata": {},
   "outputs": [
    {
     "data": {
      "text/html": [
       "<div>\n",
       "<style scoped>\n",
       "    .dataframe tbody tr th:only-of-type {\n",
       "        vertical-align: middle;\n",
       "    }\n",
       "\n",
       "    .dataframe tbody tr th {\n",
       "        vertical-align: top;\n",
       "    }\n",
       "\n",
       "    .dataframe thead th {\n",
       "        text-align: right;\n",
       "    }\n",
       "</style>\n",
       "<table border=\"1\" class=\"dataframe\">\n",
       "  <thead>\n",
       "    <tr style=\"text-align: right;\">\n",
       "      <th></th>\n",
       "      <th>D_Etab</th>\n",
       "      <th>D_Emp</th>\n",
       "      <th>D_Pay</th>\n",
       "      <th>G_Etab</th>\n",
       "      <th>G_Emp</th>\n",
       "      <th>G_Pay</th>\n",
       "    </tr>\n",
       "  </thead>\n",
       "  <tbody>\n",
       "    <tr>\n",
       "      <th>0</th>\n",
       "      <td>23</td>\n",
       "      <td>195</td>\n",
       "      <td>2189</td>\n",
       "      <td>25</td>\n",
       "      <td>913</td>\n",
       "      <td>13355</td>\n",
       "    </tr>\n",
       "    <tr>\n",
       "      <th>1</th>\n",
       "      <td>98</td>\n",
       "      <td>940</td>\n",
       "      <td>12949</td>\n",
       "      <td>162</td>\n",
       "      <td>7238</td>\n",
       "      <td>116756</td>\n",
       "    </tr>\n",
       "    <tr>\n",
       "      <th>2</th>\n",
       "      <td>53</td>\n",
       "      <td>454</td>\n",
       "      <td>5614</td>\n",
       "      <td>38</td>\n",
       "      <td>2327</td>\n",
       "      <td>37914</td>\n",
       "    </tr>\n",
       "    <tr>\n",
       "      <th>3</th>\n",
       "      <td>12</td>\n",
       "      <td>80</td>\n",
       "      <td>1150</td>\n",
       "      <td>11</td>\n",
       "      <td>306</td>\n",
       "      <td>5385</td>\n",
       "    </tr>\n",
       "    <tr>\n",
       "      <th>4</th>\n",
       "      <td>28</td>\n",
       "      <td>217</td>\n",
       "      <td>2738</td>\n",
       "      <td>16</td>\n",
       "      <td>1031</td>\n",
       "      <td>19205</td>\n",
       "    </tr>\n",
       "    <tr>\n",
       "      <th>5</th>\n",
       "      <td>250</td>\n",
       "      <td>2519</td>\n",
       "      <td>38089</td>\n",
       "      <td>489</td>\n",
       "      <td>34304</td>\n",
       "      <td>661766</td>\n",
       "    </tr>\n",
       "    <tr>\n",
       "      <th>6</th>\n",
       "      <td>21</td>\n",
       "      <td>189</td>\n",
       "      <td>2029</td>\n",
       "      <td>20</td>\n",
       "      <td>579</td>\n",
       "      <td>8966</td>\n",
       "    </tr>\n",
       "    <tr>\n",
       "      <th>7</th>\n",
       "      <td>4</td>\n",
       "      <td>47</td>\n",
       "      <td>679</td>\n",
       "      <td>28</td>\n",
       "      <td>706</td>\n",
       "      <td>17740</td>\n",
       "    </tr>\n",
       "    <tr>\n",
       "      <th>8</th>\n",
       "      <td>10</td>\n",
       "      <td>69</td>\n",
       "      <td>996</td>\n",
       "      <td>51</td>\n",
       "      <td>1312</td>\n",
       "      <td>30462</td>\n",
       "    </tr>\n",
       "    <tr>\n",
       "      <th>9</th>\n",
       "      <td>5</td>\n",
       "      <td>36</td>\n",
       "      <td>606</td>\n",
       "      <td>35</td>\n",
       "      <td>1695</td>\n",
       "      <td>39994</td>\n",
       "    </tr>\n",
       "    <tr>\n",
       "      <th>10</th>\n",
       "      <td>8</td>\n",
       "      <td>114</td>\n",
       "      <td>1626</td>\n",
       "      <td>43</td>\n",
       "      <td>1838</td>\n",
       "      <td>43983</td>\n",
       "    </tr>\n",
       "    <tr>\n",
       "      <th>11</th>\n",
       "      <td>24</td>\n",
       "      <td>231</td>\n",
       "      <td>4142</td>\n",
       "      <td>54</td>\n",
       "      <td>2709</td>\n",
       "      <td>71073</td>\n",
       "    </tr>\n",
       "    <tr>\n",
       "      <th>12</th>\n",
       "      <td>40</td>\n",
       "      <td>754</td>\n",
       "      <td>11241</td>\n",
       "      <td>78</td>\n",
       "      <td>4695</td>\n",
       "      <td>118404</td>\n",
       "    </tr>\n",
       "    <tr>\n",
       "      <th>13</th>\n",
       "      <td>13</td>\n",
       "      <td>333</td>\n",
       "      <td>5490</td>\n",
       "      <td>47</td>\n",
       "      <td>3317</td>\n",
       "      <td>79933</td>\n",
       "    </tr>\n",
       "    <tr>\n",
       "      <th>14</th>\n",
       "      <td>65</td>\n",
       "      <td>628</td>\n",
       "      <td>7967</td>\n",
       "      <td>215</td>\n",
       "      <td>10296</td>\n",
       "      <td>192248</td>\n",
       "    </tr>\n",
       "    <tr>\n",
       "      <th>15</th>\n",
       "      <td>8</td>\n",
       "      <td>78</td>\n",
       "      <td>1617</td>\n",
       "      <td>51</td>\n",
       "      <td>2277</td>\n",
       "      <td>42135</td>\n",
       "    </tr>\n",
       "    <tr>\n",
       "      <th>16</th>\n",
       "      <td>55</td>\n",
       "      <td>551</td>\n",
       "      <td>5876</td>\n",
       "      <td>184</td>\n",
       "      <td>8576</td>\n",
       "      <td>164950</td>\n",
       "    </tr>\n",
       "    <tr>\n",
       "      <th>17</th>\n",
       "      <td>147</td>\n",
       "      <td>1011</td>\n",
       "      <td>15037</td>\n",
       "      <td>380</td>\n",
       "      <td>19825</td>\n",
       "      <td>382341</td>\n",
       "    </tr>\n",
       "    <tr>\n",
       "      <th>18</th>\n",
       "      <td>15</td>\n",
       "      <td>137</td>\n",
       "      <td>1729</td>\n",
       "      <td>26</td>\n",
       "      <td>1604</td>\n",
       "      <td>28102</td>\n",
       "    </tr>\n",
       "    <tr>\n",
       "      <th>19</th>\n",
       "      <td>86</td>\n",
       "      <td>905</td>\n",
       "      <td>12320</td>\n",
       "      <td>219</td>\n",
       "      <td>9975</td>\n",
       "      <td>168055</td>\n",
       "    </tr>\n",
       "    <tr>\n",
       "      <th>20</th>\n",
       "      <td>12</td>\n",
       "      <td>70</td>\n",
       "      <td>769</td>\n",
       "      <td>6</td>\n",
       "      <td>325</td>\n",
       "      <td>5448</td>\n",
       "    </tr>\n",
       "    <tr>\n",
       "      <th>21</th>\n",
       "      <td>280</td>\n",
       "      <td>1630</td>\n",
       "      <td>22631</td>\n",
       "      <td>635</td>\n",
       "      <td>21664</td>\n",
       "      <td>413598</td>\n",
       "    </tr>\n",
       "    <tr>\n",
       "      <th>22</th>\n",
       "      <td>98</td>\n",
       "      <td>810</td>\n",
       "      <td>12271</td>\n",
       "      <td>235</td>\n",
       "      <td>10003</td>\n",
       "      <td>193050</td>\n",
       "    </tr>\n",
       "    <tr>\n",
       "      <th>23</th>\n",
       "      <td>98</td>\n",
       "      <td>652</td>\n",
       "      <td>11088</td>\n",
       "      <td>267</td>\n",
       "      <td>14746</td>\n",
       "      <td>297724</td>\n",
       "    </tr>\n",
       "    <tr>\n",
       "      <th>24</th>\n",
       "      <td>30</td>\n",
       "      <td>267</td>\n",
       "      <td>3445</td>\n",
       "      <td>67</td>\n",
       "      <td>4336</td>\n",
       "      <td>79839</td>\n",
       "    </tr>\n",
       "    <tr>\n",
       "      <th>25</th>\n",
       "      <td>8</td>\n",
       "      <td>74</td>\n",
       "      <td>923</td>\n",
       "      <td>9</td>\n",
       "      <td>385</td>\n",
       "      <td>4019</td>\n",
       "    </tr>\n",
       "    <tr>\n",
       "      <th>26</th>\n",
       "      <td>5</td>\n",
       "      <td>29</td>\n",
       "      <td>359</td>\n",
       "      <td>5</td>\n",
       "      <td>90</td>\n",
       "      <td>1289</td>\n",
       "    </tr>\n",
       "    <tr>\n",
       "      <th>27</th>\n",
       "      <td>17</td>\n",
       "      <td>134</td>\n",
       "      <td>1967</td>\n",
       "      <td>35</td>\n",
       "      <td>2451</td>\n",
       "      <td>34366</td>\n",
       "    </tr>\n",
       "    <tr>\n",
       "      <th>28</th>\n",
       "      <td>55</td>\n",
       "      <td>558</td>\n",
       "      <td>7465</td>\n",
       "      <td>110</td>\n",
       "      <td>8376</td>\n",
       "      <td>129718</td>\n",
       "    </tr>\n",
       "    <tr>\n",
       "      <th>29</th>\n",
       "      <td>6</td>\n",
       "      <td>70</td>\n",
       "      <td>788</td>\n",
       "      <td>5</td>\n",
       "      <td>245</td>\n",
       "      <td>3797</td>\n",
       "    </tr>\n",
       "    <tr>\n",
       "      <th>...</th>\n",
       "      <td>...</td>\n",
       "      <td>...</td>\n",
       "      <td>...</td>\n",
       "      <td>...</td>\n",
       "      <td>...</td>\n",
       "      <td>...</td>\n",
       "    </tr>\n",
       "    <tr>\n",
       "      <th>11603</th>\n",
       "      <td>12</td>\n",
       "      <td>246</td>\n",
       "      <td>4042</td>\n",
       "      <td>25</td>\n",
       "      <td>1022</td>\n",
       "      <td>17437</td>\n",
       "    </tr>\n",
       "    <tr>\n",
       "      <th>11604</th>\n",
       "      <td>7</td>\n",
       "      <td>48</td>\n",
       "      <td>777</td>\n",
       "      <td>9</td>\n",
       "      <td>400</td>\n",
       "      <td>6908</td>\n",
       "    </tr>\n",
       "    <tr>\n",
       "      <th>11605</th>\n",
       "      <td>78</td>\n",
       "      <td>989</td>\n",
       "      <td>15408</td>\n",
       "      <td>229</td>\n",
       "      <td>7139</td>\n",
       "      <td>152500</td>\n",
       "    </tr>\n",
       "    <tr>\n",
       "      <th>11606</th>\n",
       "      <td>8</td>\n",
       "      <td>103</td>\n",
       "      <td>1299</td>\n",
       "      <td>5</td>\n",
       "      <td>123</td>\n",
       "      <td>1570</td>\n",
       "    </tr>\n",
       "    <tr>\n",
       "      <th>11607</th>\n",
       "      <td>8</td>\n",
       "      <td>80</td>\n",
       "      <td>1669</td>\n",
       "      <td>5</td>\n",
       "      <td>218</td>\n",
       "      <td>3845</td>\n",
       "    </tr>\n",
       "    <tr>\n",
       "      <th>11608</th>\n",
       "      <td>6</td>\n",
       "      <td>30</td>\n",
       "      <td>611</td>\n",
       "      <td>9</td>\n",
       "      <td>516</td>\n",
       "      <td>7966</td>\n",
       "    </tr>\n",
       "    <tr>\n",
       "      <th>11609</th>\n",
       "      <td>18</td>\n",
       "      <td>418</td>\n",
       "      <td>6339</td>\n",
       "      <td>24</td>\n",
       "      <td>1696</td>\n",
       "      <td>30100</td>\n",
       "    </tr>\n",
       "    <tr>\n",
       "      <th>11610</th>\n",
       "      <td>8</td>\n",
       "      <td>64</td>\n",
       "      <td>1286</td>\n",
       "      <td>12</td>\n",
       "      <td>373</td>\n",
       "      <td>6421</td>\n",
       "    </tr>\n",
       "    <tr>\n",
       "      <th>11611</th>\n",
       "      <td>5</td>\n",
       "      <td>187</td>\n",
       "      <td>2990</td>\n",
       "      <td>8</td>\n",
       "      <td>531</td>\n",
       "      <td>8992</td>\n",
       "    </tr>\n",
       "    <tr>\n",
       "      <th>11612</th>\n",
       "      <td>6</td>\n",
       "      <td>47</td>\n",
       "      <td>910</td>\n",
       "      <td>4</td>\n",
       "      <td>171</td>\n",
       "      <td>3153</td>\n",
       "    </tr>\n",
       "    <tr>\n",
       "      <th>11613</th>\n",
       "      <td>16</td>\n",
       "      <td>281</td>\n",
       "      <td>4385</td>\n",
       "      <td>38</td>\n",
       "      <td>1622</td>\n",
       "      <td>31575</td>\n",
       "    </tr>\n",
       "    <tr>\n",
       "      <th>11614</th>\n",
       "      <td>18</td>\n",
       "      <td>356</td>\n",
       "      <td>5797</td>\n",
       "      <td>23</td>\n",
       "      <td>1238</td>\n",
       "      <td>26079</td>\n",
       "    </tr>\n",
       "    <tr>\n",
       "      <th>11615</th>\n",
       "      <td>7</td>\n",
       "      <td>235</td>\n",
       "      <td>3095</td>\n",
       "      <td>10</td>\n",
       "      <td>515</td>\n",
       "      <td>11846</td>\n",
       "    </tr>\n",
       "    <tr>\n",
       "      <th>11616</th>\n",
       "      <td>11</td>\n",
       "      <td>256</td>\n",
       "      <td>5142</td>\n",
       "      <td>14</td>\n",
       "      <td>517</td>\n",
       "      <td>9115</td>\n",
       "    </tr>\n",
       "    <tr>\n",
       "      <th>11617</th>\n",
       "      <td>5</td>\n",
       "      <td>38</td>\n",
       "      <td>489</td>\n",
       "      <td>9</td>\n",
       "      <td>282</td>\n",
       "      <td>4391</td>\n",
       "    </tr>\n",
       "    <tr>\n",
       "      <th>11618</th>\n",
       "      <td>9</td>\n",
       "      <td>225</td>\n",
       "      <td>3451</td>\n",
       "      <td>18</td>\n",
       "      <td>882</td>\n",
       "      <td>15504</td>\n",
       "    </tr>\n",
       "    <tr>\n",
       "      <th>11619</th>\n",
       "      <td>7</td>\n",
       "      <td>82</td>\n",
       "      <td>1602</td>\n",
       "      <td>6</td>\n",
       "      <td>171</td>\n",
       "      <td>2242</td>\n",
       "    </tr>\n",
       "    <tr>\n",
       "      <th>11620</th>\n",
       "      <td>6</td>\n",
       "      <td>46</td>\n",
       "      <td>1100</td>\n",
       "      <td>8</td>\n",
       "      <td>351</td>\n",
       "      <td>5025</td>\n",
       "    </tr>\n",
       "    <tr>\n",
       "      <th>11621</th>\n",
       "      <td>5</td>\n",
       "      <td>43</td>\n",
       "      <td>726</td>\n",
       "      <td>5</td>\n",
       "      <td>226</td>\n",
       "      <td>4279</td>\n",
       "    </tr>\n",
       "    <tr>\n",
       "      <th>11622</th>\n",
       "      <td>10</td>\n",
       "      <td>336</td>\n",
       "      <td>4774</td>\n",
       "      <td>16</td>\n",
       "      <td>1136</td>\n",
       "      <td>20441</td>\n",
       "    </tr>\n",
       "    <tr>\n",
       "      <th>11623</th>\n",
       "      <td>17</td>\n",
       "      <td>349</td>\n",
       "      <td>5628</td>\n",
       "      <td>57</td>\n",
       "      <td>4392</td>\n",
       "      <td>90000</td>\n",
       "    </tr>\n",
       "    <tr>\n",
       "      <th>11624</th>\n",
       "      <td>12</td>\n",
       "      <td>299</td>\n",
       "      <td>5319</td>\n",
       "      <td>10</td>\n",
       "      <td>516</td>\n",
       "      <td>8163</td>\n",
       "    </tr>\n",
       "    <tr>\n",
       "      <th>11625</th>\n",
       "      <td>7</td>\n",
       "      <td>58</td>\n",
       "      <td>1293</td>\n",
       "      <td>9</td>\n",
       "      <td>184</td>\n",
       "      <td>2997</td>\n",
       "    </tr>\n",
       "    <tr>\n",
       "      <th>11626</th>\n",
       "      <td>14</td>\n",
       "      <td>245</td>\n",
       "      <td>3865</td>\n",
       "      <td>16</td>\n",
       "      <td>1149</td>\n",
       "      <td>22640</td>\n",
       "    </tr>\n",
       "    <tr>\n",
       "      <th>11627</th>\n",
       "      <td>6</td>\n",
       "      <td>173</td>\n",
       "      <td>2720</td>\n",
       "      <td>11</td>\n",
       "      <td>622</td>\n",
       "      <td>10544</td>\n",
       "    </tr>\n",
       "    <tr>\n",
       "      <th>11628</th>\n",
       "      <td>4</td>\n",
       "      <td>95</td>\n",
       "      <td>1460</td>\n",
       "      <td>5</td>\n",
       "      <td>259</td>\n",
       "      <td>4051</td>\n",
       "    </tr>\n",
       "    <tr>\n",
       "      <th>11629</th>\n",
       "      <td>5</td>\n",
       "      <td>40</td>\n",
       "      <td>1012</td>\n",
       "      <td>4</td>\n",
       "      <td>128</td>\n",
       "      <td>3850</td>\n",
       "    </tr>\n",
       "    <tr>\n",
       "      <th>11630</th>\n",
       "      <td>7</td>\n",
       "      <td>82</td>\n",
       "      <td>2183</td>\n",
       "      <td>9</td>\n",
       "      <td>424</td>\n",
       "      <td>9524</td>\n",
       "    </tr>\n",
       "    <tr>\n",
       "      <th>11631</th>\n",
       "      <td>10</td>\n",
       "      <td>79</td>\n",
       "      <td>1200</td>\n",
       "      <td>9</td>\n",
       "      <td>551</td>\n",
       "      <td>9022</td>\n",
       "    </tr>\n",
       "    <tr>\n",
       "      <th>11632</th>\n",
       "      <td>5</td>\n",
       "      <td>40</td>\n",
       "      <td>689</td>\n",
       "      <td>5</td>\n",
       "      <td>193</td>\n",
       "      <td>3781</td>\n",
       "    </tr>\n",
       "  </tbody>\n",
       "</table>\n",
       "<p>11607 rows × 6 columns</p>\n",
       "</div>"
      ],
      "text/plain": [
       "       D_Etab  D_Emp  D_Pay  G_Etab  G_Emp   G_Pay\n",
       "0          23    195   2189      25    913   13355\n",
       "1          98    940  12949     162   7238  116756\n",
       "2          53    454   5614      38   2327   37914\n",
       "3          12     80   1150      11    306    5385\n",
       "4          28    217   2738      16   1031   19205\n",
       "5         250   2519  38089     489  34304  661766\n",
       "6          21    189   2029      20    579    8966\n",
       "7           4     47    679      28    706   17740\n",
       "8          10     69    996      51   1312   30462\n",
       "9           5     36    606      35   1695   39994\n",
       "10          8    114   1626      43   1838   43983\n",
       "11         24    231   4142      54   2709   71073\n",
       "12         40    754  11241      78   4695  118404\n",
       "13         13    333   5490      47   3317   79933\n",
       "14         65    628   7967     215  10296  192248\n",
       "15          8     78   1617      51   2277   42135\n",
       "16         55    551   5876     184   8576  164950\n",
       "17        147   1011  15037     380  19825  382341\n",
       "18         15    137   1729      26   1604   28102\n",
       "19         86    905  12320     219   9975  168055\n",
       "20         12     70    769       6    325    5448\n",
       "21        280   1630  22631     635  21664  413598\n",
       "22         98    810  12271     235  10003  193050\n",
       "23         98    652  11088     267  14746  297724\n",
       "24         30    267   3445      67   4336   79839\n",
       "25          8     74    923       9    385    4019\n",
       "26          5     29    359       5     90    1289\n",
       "27         17    134   1967      35   2451   34366\n",
       "28         55    558   7465     110   8376  129718\n",
       "29          6     70    788       5    245    3797\n",
       "...       ...    ...    ...     ...    ...     ...\n",
       "11603      12    246   4042      25   1022   17437\n",
       "11604       7     48    777       9    400    6908\n",
       "11605      78    989  15408     229   7139  152500\n",
       "11606       8    103   1299       5    123    1570\n",
       "11607       8     80   1669       5    218    3845\n",
       "11608       6     30    611       9    516    7966\n",
       "11609      18    418   6339      24   1696   30100\n",
       "11610       8     64   1286      12    373    6421\n",
       "11611       5    187   2990       8    531    8992\n",
       "11612       6     47    910       4    171    3153\n",
       "11613      16    281   4385      38   1622   31575\n",
       "11614      18    356   5797      23   1238   26079\n",
       "11615       7    235   3095      10    515   11846\n",
       "11616      11    256   5142      14    517    9115\n",
       "11617       5     38    489       9    282    4391\n",
       "11618       9    225   3451      18    882   15504\n",
       "11619       7     82   1602       6    171    2242\n",
       "11620       6     46   1100       8    351    5025\n",
       "11621       5     43    726       5    226    4279\n",
       "11622      10    336   4774      16   1136   20441\n",
       "11623      17    349   5628      57   4392   90000\n",
       "11624      12    299   5319      10    516    8163\n",
       "11625       7     58   1293       9    184    2997\n",
       "11626      14    245   3865      16   1149   22640\n",
       "11627       6    173   2720      11    622   10544\n",
       "11628       4     95   1460       5    259    4051\n",
       "11629       5     40   1012       4    128    3850\n",
       "11630       7     82   2183       9    424    9524\n",
       "11631      10     79   1200       9    551    9022\n",
       "11632       5     40    689       5    193    3781\n",
       "\n",
       "[11607 rows x 6 columns]"
      ]
     },
     "execution_count": 7,
     "metadata": {},
     "output_type": "execute_result"
    }
   ],
   "source": [
    "# Drop empty values and convert data to integer\n",
    "df = df.dropna(how='any')\n",
    "df = df.iloc[:, 2:]\n",
    "df"
   ]
  },
  {
   "cell_type": "code",
   "execution_count": 8,
   "metadata": {},
   "outputs": [],
   "source": [
    "# df.describe()"
   ]
  },
  {
   "cell_type": "code",
   "execution_count": 9,
   "metadata": {},
   "outputs": [],
   "source": [
    "# df.corr()"
   ]
  },
  {
   "cell_type": "code",
   "execution_count": 10,
   "metadata": {},
   "outputs": [
    {
     "data": {
      "image/png": "[encoded data removed]",
      "text/plain": [
       "<Figure size 432x288 with 1 Axes>"
      ]
     },
     "metadata": {
      "needs_background": "light"
     },
     "output_type": "display_data"
    },
    {
     "data": {
      "text/plain": [
       "<Figure size 1440x720 with 0 Axes>"
      ]
     },
     "metadata": {},
     "output_type": "display_data"
    }
   ],
   "source": [
    "df.plot(x='G_Etab', y='D_Etab', style='o')  \n",
    "plt.title('Grocery Stores vs Dollar Stores')  \n",
    "plt.xlabel('Grocery Stores')  \n",
    "plt.ylabel('Dollar Stores')\n",
    "\n",
    "plt.figure(figsize=(20,10))\n",
    "plt.tight_layout()\n",
    "plt.show()"
   ]
  },
  {
   "cell_type": "markdown",
   "metadata": {},
   "source": [
    "### Train model & Set Target\n"
   ]
  },
  {
   "cell_type": "code",
   "execution_count": 11,
   "metadata": {},
   "outputs": [
    {
     "data": {
      "text/plain": [
       "Index(['D_Etab', 'D_Emp', 'D_Pay', 'G_Etab', 'G_Emp', 'G_Pay'], dtype='object')"
      ]
     },
     "execution_count": 11,
     "metadata": {},
     "output_type": "execute_result"
    }
   ],
   "source": [
    "df.columns"
   ]
  },
  {
   "cell_type": "code",
   "execution_count": 12,
   "metadata": {},
   "outputs": [
    {
     "name": "stdout",
     "output_type": "stream",
     "text": [
      "(11607, 5) (11607,)\n"
     ]
    }
   ],
   "source": [
    "from sklearn.datasets import make_regression\n",
    "\n",
    "n_features = 5\n",
    "n_samples = len(df)\n",
    "X, y = make_regression(n_samples=n_samples, n_features=n_features, \n",
    "                       n_informative=n_features, random_state=42, \n",
    "                       noise=0.5, bias=100.0)\n",
    "print(X.shape, y.shape)"
   ]
  },
  {
   "cell_type": "code",
   "execution_count": 13,
   "metadata": {},
   "outputs": [],
   "source": [
    "from sklearn.model_selection import train_test_split\n",
    "X_train, X_test, y_train, y_test = train_test_split(X, y, test_size=0.33, random_state=42)\n"
   ]
  },
  {
   "cell_type": "code",
   "execution_count": 14,
   "metadata": {},
   "outputs": [
    {
     "data": {
      "text/plain": [
       "array([[ 1.16911804,  0.48103681,  1.11373751, -2.26554779,  0.12621847],\n",
       "       [-0.0262962 ,  0.48105572, -0.43407382, -1.3844356 , -0.94353212],\n",
       "       [ 1.51877501, -0.27473949,  1.5660521 , -0.18634386, -1.00255504],\n",
       "       ...,\n",
       "       [-1.18062605,  0.33952995,  0.9412564 , -1.04408594,  0.32800972],\n",
       "       [-0.68211466,  0.81219644,  0.70361328,  0.31492847,  1.00175343],\n",
       "       [ 0.73833686,  0.34081639,  1.81122139,  0.98691519,  0.34430983]])"
      ]
     },
     "execution_count": 14,
     "metadata": {},
     "output_type": "execute_result"
    }
   ],
   "source": [
    "X_train"
   ]
  },
  {
   "cell_type": "code",
   "execution_count": 15,
   "metadata": {},
   "outputs": [],
   "source": [
    "# # scale data\n",
    "\n",
    "from sklearn.preprocessing import MinMaxScaler\n",
    "\n",
    "X_scaler = MinMaxScaler().fit(X_train)\n",
    "X_train_scaled = X_scaler.transform(X_train)\n",
    "X_test_scaled = X_scaler.transform(X_test)"
   ]
  },
  {
   "cell_type": "code",
   "execution_count": 16,
   "metadata": {},
   "outputs": [],
   "source": [
    "# Robust Scaler\n",
    "# https://towardsdatascience.com/preprocessing-with-sklearn-a-complete-and-comprehensive-guide-670cb98fcfb9\n",
    "\n",
    "# from sklearn.preprocessing import RobustScaler\n",
    "# robust = RobustScaler(quantile_range = (0.1,0.9))\n",
    "# robust.fit_transform(X_train.f3.values.reshape(-1, 1))"
   ]
  },
  {
   "cell_type": "code",
   "execution_count": 17,
   "metadata": {},
   "outputs": [
    {
     "name": "stdout",
     "output_type": "stream",
     "text": [
      "7776\n",
      "3831\n"
     ]
    }
   ],
   "source": [
    "print(len(X_train_scaled))\n",
    "print(len(X_test_scaled))"
   ]
  },
  {
   "cell_type": "markdown",
   "metadata": {},
   "source": [
    "## Machine Learning"
   ]
  },
  {
   "cell_type": "code",
   "execution_count": 18,
   "metadata": {},
   "outputs": [],
   "source": [
    "# Used example of Example 21.1.2 Stu_LSD\n",
    "from sklearn.linear_model import LinearRegression\n",
    "model = LinearRegression()"
   ]
  },
  {
   "cell_type": "code",
   "execution_count": 19,
   "metadata": {},
   "outputs": [
    {
     "name": "stdout",
     "output_type": "stream",
     "text": [
      "Training Score: 0.9999588068855109\n",
      "Testing Score: 0.9999598214402481\n"
     ]
    }
   ],
   "source": [
    "model.fit(X_train_scaled, y_train)\n",
    "training_score = model.score(X_train_scaled, y_train)\n",
    "testing_score = model.score(X_test_scaled, y_test)\n",
    "\n",
    "print(f\"Training Score: {training_score}\")\n",
    "print(f\"Testing Score: {testing_score}\")"
   ]
  },
  {
   "cell_type": "code",
   "execution_count": 20,
   "metadata": {},
   "outputs": [
    {
     "name": "stdout",
     "output_type": "stream",
     "text": [
      "Weight coefficients:  [130.96522569 288.47782272 314.94847564 364.24405047 197.48194374]\n",
      "y-axis intercept:  -560.3548747433236\n"
     ]
    }
   ],
   "source": [
    "print('Weight coefficients: ', model.coef_)\n",
    "print('y-axis intercept: ', model.intercept_)\n",
    "\n",
    "# 'D_Etab', 'D_Emp', 'D_Pay', 'G_Emp','G_Pay'\n"
   ]
  },
  {
   "cell_type": "code",
   "execution_count": 21,
   "metadata": {},
   "outputs": [
    {
     "name": "stdout",
     "output_type": "stream",
     "text": [
      "Min X Value: [[-4.46560386]]\n",
      "Max X Value: [[4.47908425]]\n"
     ]
    }
   ],
   "source": [
    "x_min = np.array([[X.min()]])\n",
    "x_max = np.array([[X.max()]])\n",
    "print(f\"Min X Value: {x_min}\")\n",
    "print(f\"Max X Value: {x_max}\")"
   ]
  },
  {
   "cell_type": "code",
   "execution_count": 22,
   "metadata": {},
   "outputs": [
    {
     "data": {
      "text/plain": [
       "Text(0.5, 1.0, 'Residual Plot')"
      ]
     },
     "execution_count": 22,
     "metadata": {},
     "output_type": "execute_result"
    },
    {
     "data": {
      "image/png": "[encoded data removed]",
      "text/plain": [
       "<Figure size 432x288 with 1 Axes>"
      ]
     },
     "metadata": {
      "needs_background": "light"
     },
     "output_type": "display_data"
    }
   ],
   "source": [
    "# Plot the Residuals for the Training and Testing data\n",
    "\n",
    "plt.scatter(model.predict(X_train_scaled), model.predict(X_train_scaled) - y_train, c=\"blue\", label=\"Training Data\")\n",
    "plt.scatter(model.predict(X_test_scaled), model.predict(X_test_scaled) - y_test, c=\"orange\", label=\"Testing Data\")\n",
    "\n",
    "plt.legend()\n",
    "plt.hlines(y=0, xmin=y.min(), xmax=y.max())\n",
    "plt.title(\"Residual Plot\")\n"
   ]
  },
  {
   "cell_type": "code",
   "execution_count": 23,
   "metadata": {},
   "outputs": [
    {
     "name": "stdout",
     "output_type": "stream",
     "text": [
      "3831\n"
     ]
    }
   ],
   "source": [
    "predictions=model.predict(X_test_scaled)\n",
    "print(len(predictions))"
   ]
  },
  {
   "cell_type": "code",
   "execution_count": 24,
   "metadata": {},
   "outputs": [
    {
     "name": "stdout",
     "output_type": "stream",
     "text": [
      "3831\n"
     ]
    },
    {
     "data": {
      "text/html": [
       "<div>\n",
       "<style scoped>\n",
       "    .dataframe tbody tr th:only-of-type {\n",
       "        vertical-align: middle;\n",
       "    }\n",
       "\n",
       "    .dataframe tbody tr th {\n",
       "        vertical-align: top;\n",
       "    }\n",
       "\n",
       "    .dataframe thead th {\n",
       "        text-align: right;\n",
       "    }\n",
       "</style>\n",
       "<table border=\"1\" class=\"dataframe\">\n",
       "  <thead>\n",
       "    <tr style=\"text-align: right;\">\n",
       "      <th></th>\n",
       "      <th>Actual</th>\n",
       "      <th>Predicted</th>\n",
       "    </tr>\n",
       "  </thead>\n",
       "  <tbody>\n",
       "    <tr>\n",
       "      <th>0</th>\n",
       "      <td>35.990246</td>\n",
       "      <td>36.111389</td>\n",
       "    </tr>\n",
       "    <tr>\n",
       "      <th>1</th>\n",
       "      <td>51.390077</td>\n",
       "      <td>51.338260</td>\n",
       "    </tr>\n",
       "    <tr>\n",
       "      <th>2</th>\n",
       "      <td>181.572043</td>\n",
       "      <td>181.546337</td>\n",
       "    </tr>\n",
       "    <tr>\n",
       "      <th>3</th>\n",
       "      <td>75.282145</td>\n",
       "      <td>75.382673</td>\n",
       "    </tr>\n",
       "    <tr>\n",
       "      <th>4</th>\n",
       "      <td>-56.855818</td>\n",
       "      <td>-56.886347</td>\n",
       "    </tr>\n",
       "    <tr>\n",
       "      <th>5</th>\n",
       "      <td>160.851066</td>\n",
       "      <td>159.897191</td>\n",
       "    </tr>\n",
       "    <tr>\n",
       "      <th>6</th>\n",
       "      <td>155.936762</td>\n",
       "      <td>155.698698</td>\n",
       "    </tr>\n",
       "    <tr>\n",
       "      <th>7</th>\n",
       "      <td>15.853990</td>\n",
       "      <td>15.731294</td>\n",
       "    </tr>\n",
       "    <tr>\n",
       "      <th>8</th>\n",
       "      <td>131.675309</td>\n",
       "      <td>131.939645</td>\n",
       "    </tr>\n",
       "    <tr>\n",
       "      <th>9</th>\n",
       "      <td>39.854040</td>\n",
       "      <td>39.940424</td>\n",
       "    </tr>\n",
       "    <tr>\n",
       "      <th>10</th>\n",
       "      <td>22.717307</td>\n",
       "      <td>23.688361</td>\n",
       "    </tr>\n",
       "    <tr>\n",
       "      <th>11</th>\n",
       "      <td>-22.641494</td>\n",
       "      <td>-23.058066</td>\n",
       "    </tr>\n",
       "    <tr>\n",
       "      <th>12</th>\n",
       "      <td>-35.406671</td>\n",
       "      <td>-35.567616</td>\n",
       "    </tr>\n",
       "    <tr>\n",
       "      <th>13</th>\n",
       "      <td>69.798309</td>\n",
       "      <td>70.197674</td>\n",
       "    </tr>\n",
       "    <tr>\n",
       "      <th>14</th>\n",
       "      <td>6.378740</td>\n",
       "      <td>6.608383</td>\n",
       "    </tr>\n",
       "    <tr>\n",
       "      <th>15</th>\n",
       "      <td>151.876250</td>\n",
       "      <td>151.795803</td>\n",
       "    </tr>\n",
       "    <tr>\n",
       "      <th>16</th>\n",
       "      <td>-46.957179</td>\n",
       "      <td>-46.463935</td>\n",
       "    </tr>\n",
       "    <tr>\n",
       "      <th>17</th>\n",
       "      <td>40.311521</td>\n",
       "      <td>39.875010</td>\n",
       "    </tr>\n",
       "    <tr>\n",
       "      <th>18</th>\n",
       "      <td>50.036291</td>\n",
       "      <td>49.116835</td>\n",
       "    </tr>\n",
       "    <tr>\n",
       "      <th>19</th>\n",
       "      <td>63.511338</td>\n",
       "      <td>63.647268</td>\n",
       "    </tr>\n",
       "  </tbody>\n",
       "</table>\n",
       "</div>"
      ],
      "text/plain": [
       "        Actual   Predicted\n",
       "0    35.990246   36.111389\n",
       "1    51.390077   51.338260\n",
       "2   181.572043  181.546337\n",
       "3    75.282145   75.382673\n",
       "4   -56.855818  -56.886347\n",
       "5   160.851066  159.897191\n",
       "6   155.936762  155.698698\n",
       "7    15.853990   15.731294\n",
       "8   131.675309  131.939645\n",
       "9    39.854040   39.940424\n",
       "10   22.717307   23.688361\n",
       "11  -22.641494  -23.058066\n",
       "12  -35.406671  -35.567616\n",
       "13   69.798309   70.197674\n",
       "14    6.378740    6.608383\n",
       "15  151.876250  151.795803\n",
       "16  -46.957179  -46.463935\n",
       "17   40.311521   39.875010\n",
       "18   50.036291   49.116835\n",
       "19   63.511338   63.647268"
      ]
     },
     "execution_count": 24,
     "metadata": {},
     "output_type": "execute_result"
    }
   ],
   "source": [
    "df = pd.DataFrame({'Actual': y_test, 'Predicted': predictions})\n",
    "print(len(df))\n",
    "df.head(20)"
   ]
  },
  {
   "cell_type": "code",
   "execution_count": null,
   "metadata": {},
   "outputs": [],
   "source": [
    "Xnew, _ = make_regression(n_samples=n_samples, n_features=n_features, \n",
    "                       n_informative=n_features, random_state=42, \n",
    "                       noise=0.5, bias=100.0)"
   ]
  },
  {
   "cell_type": "code",
   "execution_count": null,
   "metadata": {},
   "outputs": [],
   "source": [
    "new_predictions = model.predict(Xnew)"
   ]
  },
  {
   "cell_type": "code",
   "execution_count": null,
   "metadata": {},
   "outputs": [],
   "source": [
    "new_predictions"
   ]
  },
  {
   "cell_type": "code",
   "execution_count": null,
   "metadata": {},
   "outputs": [],
   "source": []
  },
  {
   "cell_type": "code",
   "execution_count": null,
   "metadata": {},
   "outputs": [],
   "source": []
  },
  {
   "cell_type": "code",
   "execution_count": null,
   "metadata": {},
   "outputs": [],
   "source": [
    "y_test[:10] # compare with actual results"
   ]
  },
  {
   "cell_type": "code",
   "execution_count": null,
   "metadata": {},
   "outputs": [],
   "source": [
    "# Weight coefficients:  [ 2980.68464421 -5743.40197829  3111.27834167 -2212.21755309\n",
    "#   3899.81764967]\n",
    "# y-axis intercept:  0.953384984611354"
   ]
  },
  {
   "cell_type": "code",
   "execution_count": null,
   "metadata": {},
   "outputs": [],
   "source": [
    "b=0\n",
    "D_Etab = 23\n",
    "D_Emp = 195\n",
    "D_Pay = 2189\n",
    "G_Emp = 913|\n",
    "G_Pay = 13355"
   ]
  },
  {
   "cell_type": "code",
   "execution_count": null,
   "metadata": {},
   "outputs": [],
   "source": [
    "Weight coefficients:  [635.87040764 768.65680868   2.2814051  308.62120712  38.62228019]\n",
    "y-axis intercept:  -735.290243925506"
   ]
  },
  {
   "cell_type": "code",
   "execution_count": null,
   "metadata": {},
   "outputs": [],
   "source": [
    "# formula for grocery store:\n",
    "G_Etab = -735*b + 634*D_Etab - 768*D_Emp + 2*D_Pay + 308*G_Emp + 38*G_Pay\n",
    "G_Etab"
   ]
  },
  {
   "cell_type": "code",
   "execution_count": null,
   "metadata": {},
   "outputs": [],
   "source": [
    "# formula for grocery store:\n",
    "# G_Etab = -11.1*b + 4.21*D_Etab - 5.12*D_Emp + 1.47*D_Pay -2.81*G_Emp + 1.86*G_Pay\n",
    "G_Etab"
   ]
  },
  {
   "cell_type": "code",
   "execution_count": null,
   "metadata": {},
   "outputs": [],
   "source": [
    "# formula for grocery store:\n",
    "G_Etab = 100*b + 64*D_Etab - 8.4*D_Emp + 89*D_Pay + 16*G_Emp + 78*G_Pay\n",
    "G_Etab"
   ]
  },
  {
   "cell_type": "code",
   "execution_count": null,
   "metadata": {},
   "outputs": [],
   "source": []
  }
 ],
 "metadata": {
  "kernelspec": {
   "display_name": "Python 3",
   "language": "python",
   "name": "python3"
  },
  "language_info": {
   "codemirror_mode": {
    "name": "ipython",
    "version": 3
   },
   "file_extension": ".py",
   "mimetype": "text/x-python",
   "name": "python",
   "nbconvert_exporter": "python",
   "pygments_lexer": "ipython3",
   "version": "3.6.7"
  }
 },
 "nbformat": 4,
 "nbformat_minor": 2
}
