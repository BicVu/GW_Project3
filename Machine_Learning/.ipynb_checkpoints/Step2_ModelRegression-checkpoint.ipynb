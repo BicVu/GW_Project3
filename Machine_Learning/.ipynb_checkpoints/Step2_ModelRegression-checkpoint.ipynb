{
 "cells": [
  {
   "cell_type": "markdown",
   "metadata": {},
   "source": [
    "## Predict Number of Pop in Food Desert\n",
    "\n",
    "https://towardsdatascience.com/a-beginners-guide-to-linear-regression-in-python-with-scikit-learn-83a8f7ae2b4f\n",
    "<br>y_test ≈ prediction\n",
    "<br>REFERENCE: 21.01.Stu_Respiratory_Disease"
   ]
  },
  {
   "cell_type": "code",
   "execution_count": 22,
   "metadata": {},
   "outputs": [],
   "source": [
    "# https://xcitech.github.io/tutorials/heroku_tutorial/\n",
    "%matplotlib inline\n",
    "import matplotlib.pyplot as plt\n",
    "import numpy as np\n",
    "import pandas\n",
    "import pandas as pd\n",
    "\n",
    "import warnings\n",
    "warnings.simplefilter('ignore', FutureWarning)"
   ]
  },
  {
   "cell_type": "code",
   "execution_count": 24,
   "metadata": {},
   "outputs": [],
   "source": [
    "# Select which data set to use as a model and import related csv (ML_TRAIN contains both 2010 and 2015)\n",
    "read_df = pd.read_csv('ML_Input/ML_2015_CLEAN.csv', encoding='utf-8')"
   ]
  },
  {
   "cell_type": "code",
   "execution_count": 25,
   "metadata": {},
   "outputs": [],
   "source": [
    "# read_df.columns"
   ]
  },
  {
   "cell_type": "code",
   "execution_count": 26,
   "metadata": {},
   "outputs": [
    {
     "name": "stdout",
     "output_type": "stream",
     "text": [
      "GeoID            int64\n",
      "Year             int64\n",
      "D_Etab           int64\n",
      "D_Emp            int64\n",
      "D_Pay            int64\n",
      "G_Etab           int64\n",
      "G_Emp            int64\n",
      "G_Pay            int64\n",
      "Pop_2015         int64\n",
      "FD_num_2015      int64\n",
      "FD_pct_2015    float64\n",
      "D_Cap            int64\n",
      "G_Cap            int64\n",
      "dtype: object\n"
     ]
    },
    {
     "data": {
      "text/html": [
       "<div>\n",
       "<style scoped>\n",
       "    .dataframe tbody tr th:only-of-type {\n",
       "        vertical-align: middle;\n",
       "    }\n",
       "\n",
       "    .dataframe tbody tr th {\n",
       "        vertical-align: top;\n",
       "    }\n",
       "\n",
       "    .dataframe thead th {\n",
       "        text-align: right;\n",
       "    }\n",
       "</style>\n",
       "<table border=\"1\" class=\"dataframe\">\n",
       "  <thead>\n",
       "    <tr style=\"text-align: right;\">\n",
       "      <th></th>\n",
       "      <th>GeoID</th>\n",
       "      <th>Year</th>\n",
       "      <th>D_Etab</th>\n",
       "      <th>D_Emp</th>\n",
       "      <th>D_Pay</th>\n",
       "      <th>G_Etab</th>\n",
       "      <th>G_Emp</th>\n",
       "      <th>G_Pay</th>\n",
       "      <th>Pop_2015</th>\n",
       "      <th>FD_num_2015</th>\n",
       "      <th>FD_pct_2015</th>\n",
       "      <th>D_Cap</th>\n",
       "      <th>G_Cap</th>\n",
       "    </tr>\n",
       "  </thead>\n",
       "  <tbody>\n",
       "    <tr>\n",
       "      <th>0</th>\n",
       "      <td>1001</td>\n",
       "      <td>2015</td>\n",
       "      <td>11</td>\n",
       "      <td>93</td>\n",
       "      <td>1703</td>\n",
       "      <td>5</td>\n",
       "      <td>283</td>\n",
       "      <td>5691</td>\n",
       "      <td>55035</td>\n",
       "      <td>17497</td>\n",
       "      <td>32.06</td>\n",
       "      <td>5003</td>\n",
       "      <td>11007</td>\n",
       "    </tr>\n",
       "    <tr>\n",
       "      <th>1</th>\n",
       "      <td>1003</td>\n",
       "      <td>2015</td>\n",
       "      <td>50</td>\n",
       "      <td>429</td>\n",
       "      <td>7054</td>\n",
       "      <td>30</td>\n",
       "      <td>1774</td>\n",
       "      <td>36515</td>\n",
       "      <td>203690</td>\n",
       "      <td>30561</td>\n",
       "      <td>16.77</td>\n",
       "      <td>4073</td>\n",
       "      <td>6789</td>\n",
       "    </tr>\n",
       "    <tr>\n",
       "      <th>2</th>\n",
       "      <td>1005</td>\n",
       "      <td>2015</td>\n",
       "      <td>8</td>\n",
       "      <td>60</td>\n",
       "      <td>844</td>\n",
       "      <td>4</td>\n",
       "      <td>159</td>\n",
       "      <td>2733</td>\n",
       "      <td>26270</td>\n",
       "      <td>6070</td>\n",
       "      <td>22.11</td>\n",
       "      <td>3283</td>\n",
       "      <td>6567</td>\n",
       "    </tr>\n",
       "    <tr>\n",
       "      <th>3</th>\n",
       "      <td>1007</td>\n",
       "      <td>2015</td>\n",
       "      <td>5</td>\n",
       "      <td>40</td>\n",
       "      <td>596</td>\n",
       "      <td>5</td>\n",
       "      <td>111</td>\n",
       "      <td>2497</td>\n",
       "      <td>22561</td>\n",
       "      <td>969</td>\n",
       "      <td>4.23</td>\n",
       "      <td>4512</td>\n",
       "      <td>4512</td>\n",
       "    </tr>\n",
       "    <tr>\n",
       "      <th>4</th>\n",
       "      <td>1015</td>\n",
       "      <td>2015</td>\n",
       "      <td>34</td>\n",
       "      <td>263</td>\n",
       "      <td>4461</td>\n",
       "      <td>29</td>\n",
       "      <td>832</td>\n",
       "      <td>15066</td>\n",
       "      <td>115285</td>\n",
       "      <td>27786</td>\n",
       "      <td>23.43</td>\n",
       "      <td>3390</td>\n",
       "      <td>3975</td>\n",
       "    </tr>\n",
       "  </tbody>\n",
       "</table>\n",
       "</div>"
      ],
      "text/plain": [
       "   GeoID  Year  D_Etab  D_Emp  D_Pay  G_Etab  G_Emp  G_Pay  Pop_2015  \\\n",
       "0   1001  2015      11     93   1703       5    283   5691     55035   \n",
       "1   1003  2015      50    429   7054      30   1774  36515    203690   \n",
       "2   1005  2015       8     60    844       4    159   2733     26270   \n",
       "3   1007  2015       5     40    596       5    111   2497     22561   \n",
       "4   1015  2015      34    263   4461      29    832  15066    115285   \n",
       "\n",
       "   FD_num_2015  FD_pct_2015  D_Cap  G_Cap  \n",
       "0        17497        32.06   5003  11007  \n",
       "1        30561        16.77   4073   6789  \n",
       "2         6070        22.11   3283   6567  \n",
       "3          969         4.23   4512   4512  \n",
       "4        27786        23.43   3390   3975  "
      ]
     },
     "execution_count": 26,
     "metadata": {},
     "output_type": "execute_result"
    }
   ],
   "source": [
    "# Check data types\n",
    "print(read_df.dtypes)\n",
    "read_df.head()"
   ]
  },
  {
   "cell_type": "code",
   "execution_count": 27,
   "metadata": {},
   "outputs": [],
   "source": [
    "# read_df.describe()"
   ]
  },
  {
   "cell_type": "code",
   "execution_count": 28,
   "metadata": {},
   "outputs": [],
   "source": [
    "# read_df.corr()"
   ]
  },
  {
   "cell_type": "code",
   "execution_count": 7,
   "metadata": {},
   "outputs": [
    {
     "data": {
      "text/plain": [
       "Index(['GeoID', 'Year', 'D_Etab', 'D_Emp', 'D_Pay', 'G_Etab', 'G_Emp', 'G_Pay',\n",
       "       'Pop', 'FD_num', 'FD_pct', 'D_Cap', 'G_Cap'],\n",
       "      dtype='object')"
      ]
     },
     "execution_count": 7,
     "metadata": {},
     "output_type": "execute_result"
    }
   ],
   "source": [
    "read_df.columns"
   ]
  },
  {
   "cell_type": "markdown",
   "metadata": {},
   "source": [
    "### Train model & Set Target"
   ]
  },
  {
   "cell_type": "code",
   "execution_count": 29,
   "metadata": {},
   "outputs": [
    {
     "data": {
      "text/html": [
       "<div>\n",
       "<style scoped>\n",
       "    .dataframe tbody tr th:only-of-type {\n",
       "        vertical-align: middle;\n",
       "    }\n",
       "\n",
       "    .dataframe tbody tr th {\n",
       "        vertical-align: top;\n",
       "    }\n",
       "\n",
       "    .dataframe thead th {\n",
       "        text-align: right;\n",
       "    }\n",
       "</style>\n",
       "<table border=\"1\" class=\"dataframe\">\n",
       "  <thead>\n",
       "    <tr style=\"text-align: right;\">\n",
       "      <th></th>\n",
       "      <th>D_Etab</th>\n",
       "      <th>D_Emp</th>\n",
       "      <th>D_Pay</th>\n",
       "      <th>G_Etab</th>\n",
       "      <th>G_Emp</th>\n",
       "      <th>G_Pay</th>\n",
       "      <th>D_Cap</th>\n",
       "      <th>G_Cap</th>\n",
       "      <th>FD_num_2015</th>\n",
       "    </tr>\n",
       "  </thead>\n",
       "  <tbody>\n",
       "    <tr>\n",
       "      <th>1498</th>\n",
       "      <td>7</td>\n",
       "      <td>67</td>\n",
       "      <td>1197</td>\n",
       "      <td>4</td>\n",
       "      <td>129</td>\n",
       "      <td>3900</td>\n",
       "      <td>2222</td>\n",
       "      <td>3888</td>\n",
       "      <td>8589</td>\n",
       "    </tr>\n",
       "    <tr>\n",
       "      <th>1499</th>\n",
       "      <td>8</td>\n",
       "      <td>96</td>\n",
       "      <td>2070</td>\n",
       "      <td>8</td>\n",
       "      <td>405</td>\n",
       "      <td>9088</td>\n",
       "      <td>5044</td>\n",
       "      <td>5044</td>\n",
       "      <td>5270</td>\n",
       "    </tr>\n",
       "    <tr>\n",
       "      <th>1500</th>\n",
       "      <td>10</td>\n",
       "      <td>84</td>\n",
       "      <td>1136</td>\n",
       "      <td>10</td>\n",
       "      <td>635</td>\n",
       "      <td>13946</td>\n",
       "      <td>9718</td>\n",
       "      <td>9718</td>\n",
       "      <td>31924</td>\n",
       "    </tr>\n",
       "    <tr>\n",
       "      <th>1501</th>\n",
       "      <td>7</td>\n",
       "      <td>70</td>\n",
       "      <td>736</td>\n",
       "      <td>6</td>\n",
       "      <td>186</td>\n",
       "      <td>3966</td>\n",
       "      <td>2679</td>\n",
       "      <td>3126</td>\n",
       "      <td>2479</td>\n",
       "    </tr>\n",
       "    <tr>\n",
       "      <th>1502</th>\n",
       "      <td>6</td>\n",
       "      <td>55</td>\n",
       "      <td>960</td>\n",
       "      <td>8</td>\n",
       "      <td>562</td>\n",
       "      <td>12233</td>\n",
       "      <td>13698</td>\n",
       "      <td>10273</td>\n",
       "      <td>32267</td>\n",
       "    </tr>\n",
       "  </tbody>\n",
       "</table>\n",
       "</div>"
      ],
      "text/plain": [
       "      D_Etab  D_Emp  D_Pay  G_Etab  G_Emp  G_Pay  D_Cap  G_Cap  FD_num_2015\n",
       "1498       7     67   1197       4    129   3900   2222   3888         8589\n",
       "1499       8     96   2070       8    405   9088   5044   5044         5270\n",
       "1500      10     84   1136      10    635  13946   9718   9718        31924\n",
       "1501       7     70    736       6    186   3966   2679   3126         2479\n",
       "1502       6     55    960       8    562  12233  13698  10273        32267"
      ]
     },
     "execution_count": 29,
     "metadata": {},
     "output_type": "execute_result"
    }
   ],
   "source": [
    "target = \"FD_num_2015\"\n",
    "# target = \"FD_num\" ## Name of target column in ML_TRAIN csv\n",
    "\n",
    "# Select columns for machine learning processing\n",
    "mldf = read_df[['D_Etab', 'D_Emp', 'D_Pay', 'G_Etab','G_Emp', 'G_Pay', \n",
    "                'D_Cap', 'G_Cap', target]]\n",
    "# mldf = read_df.iloc[:, 2:] # Use all columns\n",
    "mldf.tail()"
   ]
  },
  {
   "cell_type": "code",
   "execution_count": 30,
   "metadata": {},
   "outputs": [
    {
     "name": "stdout",
     "output_type": "stream",
     "text": [
      "(1503, 8) (1503, 1)\n"
     ]
    }
   ],
   "source": [
    "# REFERENCE: 21.01.Stu_Respiratory_Disease\n",
    "# Assign X (data) & y (target)\n",
    "\n",
    "X = mldf.drop(target, axis=1) # drop target feature column\n",
    "y = mldf[target].values.reshape(-1, 1)\n",
    "print(X.shape, y.shape)"
   ]
  },
  {
   "cell_type": "code",
   "execution_count": 31,
   "metadata": {},
   "outputs": [
    {
     "data": {
      "text/plain": [
       "<matplotlib.axes._subplots.AxesSubplot at 0x1a21a44860>"
      ]
     },
     "execution_count": 31,
     "metadata": {},
     "output_type": "execute_result"
    },
    {
     "data": {
      "image/png": "[encoded data removed]",
      "text/plain": [
       "<Figure size 1080x720 with 1 Axes>"
      ]
     },
     "metadata": {
      "needs_background": "light"
     },
     "output_type": "display_data"
    }
   ],
   "source": [
    "# Plot Target column to check quality of data\n",
    "import seaborn as seabornInstance \n",
    "\n",
    "plt.figure(figsize=(15,10))\n",
    "plt.tight_layout()\n",
    "seabornInstance.distplot(mldf[target])"
   ]
  },
  {
   "cell_type": "code",
   "execution_count": 32,
   "metadata": {},
   "outputs": [],
   "source": [
    "from sklearn.model_selection import train_test_split\n",
    "X_train, X_test, y_train, y_test = train_test_split(X, y, test_size=0.33, random_state=42)"
   ]
  },
  {
   "cell_type": "code",
   "execution_count": 33,
   "metadata": {},
   "outputs": [],
   "source": [
    "# from sklearn.preprocessing import StandardScaler\n",
    "\n",
    "# # Create a StandardScater model and fit it to the training data\n",
    "# X_scaler= StandardScaler().fit(X_train)\n",
    "# y_scaler = StandardScaler().fit(y_train)"
   ]
  },
  {
   "cell_type": "code",
   "execution_count": 34,
   "metadata": {},
   "outputs": [],
   "source": [
    "# # MIN MAX SCALAR\n",
    "\n",
    "# from sklearn.preprocessing import MinMaxScaler\n",
    "# X_scaler = MinMaxScaler().fit(X_train)\n",
    "# y_scaler = MinMaxScaler().fit(y_train)"
   ]
  },
  {
   "cell_type": "code",
   "execution_count": 35,
   "metadata": {},
   "outputs": [],
   "source": [
    "# # Transform the training and testing data using the X_scaler and y_scaler models\n",
    "# X_train_std = X_scaler.transform(X_train)\n",
    "# X_test_std = X_scaler.transform(X_test)\n",
    "# y_train_std = y_scaler.transform(y_train)\n",
    "# y_test_std = y_scaler.transform(y_test)"
   ]
  },
  {
   "cell_type": "code",
   "execution_count": 36,
   "metadata": {},
   "outputs": [
    {
     "data": {
      "text/plain": [
       "LinearRegression(copy_X=True, fit_intercept=True, n_jobs=None,\n",
       "         normalize=False)"
      ]
     },
     "execution_count": 36,
     "metadata": {},
     "output_type": "execute_result"
    }
   ],
   "source": [
    "# Create Linear Regression\n",
    "from sklearn.linear_model import LinearRegression\n",
    "model = LinearRegression()\n",
    "model.fit(X_train, y_train)"
   ]
  },
  {
   "cell_type": "code",
   "execution_count": 37,
   "metadata": {},
   "outputs": [
    {
     "data": {
      "text/plain": [
       "LinearRegression(copy_X=True, fit_intercept=True, n_jobs=None,\n",
       "         normalize=False)"
      ]
     },
     "execution_count": 37,
     "metadata": {},
     "output_type": "execute_result"
    }
   ],
   "source": [
    "predictions = model.predict(X_test)\n",
    "model.fit(X_train, y_train)"
   ]
  },
  {
   "cell_type": "code",
   "execution_count": 38,
   "metadata": {},
   "outputs": [
    {
     "data": {
      "image/png": "[encoded data removed]",
      "text/plain": [
       "<Figure size 432x288 with 1 Axes>"
      ]
     },
     "metadata": {
      "needs_background": "light"
     },
     "output_type": "display_data"
    }
   ],
   "source": [
    "# Plot data selection\n",
    "plt.scatter(model.predict(X_train), model.predict(X_train) - y_train, c=\"blue\", label=\"Training Data\")\n",
    "plt.scatter(model.predict(X_test), model.predict(X_test) - y_test, c=\"orange\", label=\"Testing Data\")\n",
    "\n",
    "plt.legend()\n",
    "plt.hlines(y=0, xmin=y_test.min(), xmax=y_test.max())\n",
    "plt.title(\"Residual Plot\")\n",
    "plt.show()"
   ]
  },
  {
   "cell_type": "code",
   "execution_count": 39,
   "metadata": {},
   "outputs": [
    {
     "name": "stdout",
     "output_type": "stream",
     "text": [
      "MSE: 1018471622.0, R2: 0.7455774164597135\n"
     ]
    }
   ],
   "source": [
    "from sklearn.metrics import mean_squared_error\n",
    "\n",
    "MSE = mean_squared_error(y_test, predictions).round()\n",
    "r2 = model.score(X_test, y_test)\n",
    "### END SOLUTION\n",
    "\n",
    "print(f\"MSE: {MSE}, R2: {r2}\")\n",
    "\n",
    "# 2015 Comparison\n",
    "# Good MSE = 0. Good R2 = 1.\n",
    "# MSE: 0.3304529371780043, R2: 0.6479262717877914\n",
    "\n",
    "# 2010 Comparison\n",
    "# MSE: 0.418649717790164, R2: 0.5060741987745555"
   ]
  },
  {
   "cell_type": "code",
   "execution_count": 40,
   "metadata": {
    "scrolled": true
   },
   "outputs": [
    {
     "name": "stdout",
     "output_type": "stream",
     "text": [
      "Training Score: 0.8120034100776896\n",
      "Testing Score: 0.7455774164597135\n"
     ]
    }
   ],
   "source": [
    "training_score = model.score(X_train, y_train)\n",
    "testing_score = model.score(X_test, y_test)\n",
    "\n",
    "print(f\"Training Score: {training_score}\")\n",
    "print(f\"Testing Score: {testing_score}\")\n",
    "\n",
    "# 2015 Comparison\n",
    "# Training Score: 0.851124649670741\n",
    "# Testing Score: 0.8232257029591146\n",
    "\n",
    "# 2010 Comparison\n",
    "# Training Score: 0.8369746061032074\n",
    "# Testing Score: 0.6064356663269095"
   ]
  },
  {
   "cell_type": "code",
   "execution_count": 41,
   "metadata": {},
   "outputs": [
    {
     "name": "stdout",
     "output_type": "stream",
     "text": [
      "Columns: Index(['D_Etab', 'D_Emp', 'D_Pay', 'G_Etab', 'G_Emp', 'G_Pay', 'D_Cap',\n",
      "       'G_Cap'],\n",
      "      dtype='object')\n",
      "Weight coefficients:  [[ 787.  162.   -9. -266.   27.   -1.    2.    1.]]\n",
      "y-axis intercept:  [-15565.]\n"
     ]
    }
   ],
   "source": [
    "print('Columns:', X.columns)\n",
    "print('Weight coefficients: ', model.coef_.round())\n",
    "print('y-axis intercept: ', model.intercept_.round())\n",
    "\n",
    "#Comparison\n",
    "# 2015 y-axis intercept:  -12198\n",
    "# 'D_Etab', 'D_Emp', 'D_Pay', 'G_Etab', 'G_Emp', 'G_Pay', 'D_Cap', 'G_Cap'\n",
    "#  850       153      -9       -256      21       0        13       0     Year: 2015\n",
    "#  484       572      -31      -268      31       0        7        2      Year: 2010\n",
    "# 2010 y-axis intercept:  -18879\n"
   ]
  },
  {
   "cell_type": "code",
   "execution_count": 42,
   "metadata": {},
   "outputs": [
    {
     "data": {
      "text/html": [
       "<div>\n",
       "<style scoped>\n",
       "    .dataframe tbody tr th:only-of-type {\n",
       "        vertical-align: middle;\n",
       "    }\n",
       "\n",
       "    .dataframe tbody tr th {\n",
       "        vertical-align: top;\n",
       "    }\n",
       "\n",
       "    .dataframe thead th {\n",
       "        text-align: right;\n",
       "    }\n",
       "</style>\n",
       "<table border=\"1\" class=\"dataframe\">\n",
       "  <thead>\n",
       "    <tr style=\"text-align: right;\">\n",
       "      <th></th>\n",
       "      <th>Actual</th>\n",
       "      <th>Predicted</th>\n",
       "    </tr>\n",
       "  </thead>\n",
       "  <tbody>\n",
       "    <tr>\n",
       "      <th>0</th>\n",
       "      <td>4997</td>\n",
       "      <td>-4986</td>\n",
       "    </tr>\n",
       "    <tr>\n",
       "      <th>1</th>\n",
       "      <td>5301</td>\n",
       "      <td>4242</td>\n",
       "    </tr>\n",
       "    <tr>\n",
       "      <th>2</th>\n",
       "      <td>27649</td>\n",
       "      <td>53069</td>\n",
       "    </tr>\n",
       "    <tr>\n",
       "      <th>3</th>\n",
       "      <td>3131</td>\n",
       "      <td>17896</td>\n",
       "    </tr>\n",
       "    <tr>\n",
       "      <th>4</th>\n",
       "      <td>19670</td>\n",
       "      <td>27600</td>\n",
       "    </tr>\n",
       "  </tbody>\n",
       "</table>\n",
       "</div>"
      ],
      "text/plain": [
       "   Actual  Predicted\n",
       "0    4997      -4986\n",
       "1    5301       4242\n",
       "2   27649      53069\n",
       "3    3131      17896\n",
       "4   19670      27600"
      ]
     },
     "execution_count": 42,
     "metadata": {},
     "output_type": "execute_result"
    }
   ],
   "source": [
    "pred_df = pd.DataFrame({'Actual': y_test.flatten(), 'Predicted': predictions.flatten().astype(int)})\n",
    "pred_df.head()"
   ]
  },
  {
   "cell_type": "code",
   "execution_count": 43,
   "metadata": {},
   "outputs": [
    {
     "data": {
      "image/png": "[encoded data removed]",
      "text/plain": [
       "<Figure size 1152x720 with 1 Axes>"
      ]
     },
     "metadata": {
      "needs_background": "light"
     },
     "output_type": "display_data"
    }
   ],
   "source": [
    "df1 = pred_df.tail(50)\n",
    "df1.plot(kind='bar',figsize=(16,10))\n",
    "plt.grid(which='major', linestyle='-', linewidth='0.5', color='green')\n",
    "plt.grid(which='minor', linestyle=':', linewidth='0.5', color='black')\n",
    "plt.show()"
   ]
  },
  {
   "cell_type": "code",
   "execution_count": null,
   "metadata": {},
   "outputs": [],
   "source": []
  }
 ],
 "metadata": {
  "kernelspec": {
   "display_name": "Python 3",
   "language": "python",
   "name": "python3"
  },
  "language_info": {
   "codemirror_mode": {
    "name": "ipython",
    "version": 3
   },
   "file_extension": ".py",
   "mimetype": "text/x-python",
   "name": "python",
   "nbconvert_exporter": "python",
   "pygments_lexer": "ipython3",
   "version": "3.6.7"
  }
 },
 "nbformat": 4,
 "nbformat_minor": 2
}
