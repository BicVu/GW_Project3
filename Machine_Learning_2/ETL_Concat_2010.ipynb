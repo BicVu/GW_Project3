{
 "cells": [
  {
   "cell_type": "code",
   "execution_count": 2,
   "metadata": {},
   "outputs": [],
   "source": [
    "import pandas\n",
    "import pandas as pd\n"
   ]
  },
  {
   "cell_type": "code",
   "execution_count": 3,
   "metadata": {},
   "outputs": [],
   "source": [
    "# # Dollar Data\n",
    "\n",
    "# for y in range(2015,2016):\n",
    "#     df = pd.read_csv(f'Raw_Data/{y}_NAICS_452990.csv', encoding='latin-1')\n",
    "#     df = df.drop(df.index[0])\n",
    "#     df = df[['GEO.id2','YEAR.id','ESTAB','EMP', 'PAYANN']]\n",
    "# #     df = df[['GEO.id2','YEAR.id','ESTAB','EMP', 'PAYANN']]\n",
    "#     df = df.rename(columns={'GEO.id2':'GeoID', 'YEAR.id': 'Year', 'ESTAB':'D_Etab', 'EMP':'D_Emp', 'PAYANN':'D_Pay'})\n",
    "#     d_df = pd.concat([df])\n",
    "#     globals()['d%s' % y] = df\n"
   ]
  },
  {
   "cell_type": "code",
   "execution_count": 3,
   "metadata": {},
   "outputs": [],
   "source": [
    "read_df = pd.read_csv('Clean_Data/mldata_clean.csv', encoding='utf-8')"
   ]
  },
  {
   "cell_type": "code",
   "execution_count": 4,
   "metadata": {},
   "outputs": [
    {
     "name": "stdout",
     "output_type": "stream",
     "text": [
      "11607\n"
     ]
    },
    {
     "data": {
      "text/html": [
       "<div>\n",
       "<style scoped>\n",
       "    .dataframe tbody tr th:only-of-type {\n",
       "        vertical-align: middle;\n",
       "    }\n",
       "\n",
       "    .dataframe tbody tr th {\n",
       "        vertical-align: top;\n",
       "    }\n",
       "\n",
       "    .dataframe thead th {\n",
       "        text-align: right;\n",
       "    }\n",
       "</style>\n",
       "<table border=\"1\" class=\"dataframe\">\n",
       "  <thead>\n",
       "    <tr style=\"text-align: right;\">\n",
       "      <th></th>\n",
       "      <th>GeoID</th>\n",
       "      <th>Year</th>\n",
       "      <th>D_Etab</th>\n",
       "      <th>D_Emp</th>\n",
       "      <th>D_Pay</th>\n",
       "      <th>G_Etab</th>\n",
       "      <th>G_Emp</th>\n",
       "      <th>G_Pay</th>\n",
       "    </tr>\n",
       "  </thead>\n",
       "  <tbody>\n",
       "    <tr>\n",
       "      <th>0</th>\n",
       "      <td>1055</td>\n",
       "      <td>2005</td>\n",
       "      <td>23</td>\n",
       "      <td>195</td>\n",
       "      <td>2189</td>\n",
       "      <td>25</td>\n",
       "      <td>913</td>\n",
       "      <td>13355</td>\n",
       "    </tr>\n",
       "    <tr>\n",
       "      <th>1</th>\n",
       "      <td>1073</td>\n",
       "      <td>2005</td>\n",
       "      <td>98</td>\n",
       "      <td>940</td>\n",
       "      <td>12949</td>\n",
       "      <td>162</td>\n",
       "      <td>7238</td>\n",
       "      <td>116756</td>\n",
       "    </tr>\n",
       "    <tr>\n",
       "      <th>2</th>\n",
       "      <td>1089</td>\n",
       "      <td>2005</td>\n",
       "      <td>53</td>\n",
       "      <td>454</td>\n",
       "      <td>5614</td>\n",
       "      <td>38</td>\n",
       "      <td>2327</td>\n",
       "      <td>37914</td>\n",
       "    </tr>\n",
       "    <tr>\n",
       "      <th>3</th>\n",
       "      <td>4001</td>\n",
       "      <td>2005</td>\n",
       "      <td>12</td>\n",
       "      <td>80</td>\n",
       "      <td>1150</td>\n",
       "      <td>11</td>\n",
       "      <td>306</td>\n",
       "      <td>5385</td>\n",
       "    </tr>\n",
       "    <tr>\n",
       "      <th>4</th>\n",
       "      <td>4003</td>\n",
       "      <td>2005</td>\n",
       "      <td>28</td>\n",
       "      <td>217</td>\n",
       "      <td>2738</td>\n",
       "      <td>16</td>\n",
       "      <td>1031</td>\n",
       "      <td>19205</td>\n",
       "    </tr>\n",
       "  </tbody>\n",
       "</table>\n",
       "</div>"
      ],
      "text/plain": [
       "   GeoID  Year  D_Etab  D_Emp  D_Pay  G_Etab  G_Emp   G_Pay\n",
       "0   1055  2005      23    195   2189      25    913   13355\n",
       "1   1073  2005      98    940  12949     162   7238  116756\n",
       "2   1089  2005      53    454   5614      38   2327   37914\n",
       "3   4001  2005      12     80   1150      11    306    5385\n",
       "4   4003  2005      28    217   2738      16   1031   19205"
      ]
     },
     "execution_count": 4,
     "metadata": {},
     "output_type": "execute_result"
    }
   ],
   "source": [
    "print(len(read_df))\n",
    "read_df.head()"
   ]
  },
  {
   "cell_type": "code",
   "execution_count": 5,
   "metadata": {},
   "outputs": [],
   "source": [
    "dg_2010 = read_df[read_df['Year'].isin([2010])]"
   ]
  },
  {
   "cell_type": "code",
   "execution_count": 7,
   "metadata": {},
   "outputs": [
    {
     "name": "stdout",
     "output_type": "stream",
     "text": [
      "1026\n"
     ]
    },
    {
     "data": {
      "text/html": [
       "<div>\n",
       "<style scoped>\n",
       "    .dataframe tbody tr th:only-of-type {\n",
       "        vertical-align: middle;\n",
       "    }\n",
       "\n",
       "    .dataframe tbody tr th {\n",
       "        vertical-align: top;\n",
       "    }\n",
       "\n",
       "    .dataframe thead th {\n",
       "        text-align: right;\n",
       "    }\n",
       "</style>\n",
       "<table border=\"1\" class=\"dataframe\">\n",
       "  <thead>\n",
       "    <tr style=\"text-align: right;\">\n",
       "      <th></th>\n",
       "      <th>GeoID</th>\n",
       "      <th>Year</th>\n",
       "      <th>D_Etab</th>\n",
       "      <th>D_Emp</th>\n",
       "      <th>D_Pay</th>\n",
       "      <th>G_Etab</th>\n",
       "      <th>G_Emp</th>\n",
       "      <th>G_Pay</th>\n",
       "    </tr>\n",
       "  </thead>\n",
       "  <tbody>\n",
       "    <tr>\n",
       "      <th>3580</th>\n",
       "      <td>1003</td>\n",
       "      <td>2010</td>\n",
       "      <td>37</td>\n",
       "      <td>271</td>\n",
       "      <td>5046</td>\n",
       "      <td>25</td>\n",
       "      <td>1190</td>\n",
       "      <td>25820</td>\n",
       "    </tr>\n",
       "    <tr>\n",
       "      <th>3581</th>\n",
       "      <td>1015</td>\n",
       "      <td>2010</td>\n",
       "      <td>30</td>\n",
       "      <td>207</td>\n",
       "      <td>3464</td>\n",
       "      <td>24</td>\n",
       "      <td>734</td>\n",
       "      <td>12338</td>\n",
       "    </tr>\n",
       "    <tr>\n",
       "      <th>3582</th>\n",
       "      <td>1017</td>\n",
       "      <td>2010</td>\n",
       "      <td>9</td>\n",
       "      <td>66</td>\n",
       "      <td>983</td>\n",
       "      <td>8</td>\n",
       "      <td>200</td>\n",
       "      <td>3634</td>\n",
       "    </tr>\n",
       "    <tr>\n",
       "      <th>3583</th>\n",
       "      <td>1019</td>\n",
       "      <td>2010</td>\n",
       "      <td>9</td>\n",
       "      <td>43</td>\n",
       "      <td>755</td>\n",
       "      <td>4</td>\n",
       "      <td>114</td>\n",
       "      <td>1612</td>\n",
       "    </tr>\n",
       "    <tr>\n",
       "      <th>3584</th>\n",
       "      <td>1025</td>\n",
       "      <td>2010</td>\n",
       "      <td>15</td>\n",
       "      <td>158</td>\n",
       "      <td>2467</td>\n",
       "      <td>7</td>\n",
       "      <td>252</td>\n",
       "      <td>4142</td>\n",
       "    </tr>\n",
       "  </tbody>\n",
       "</table>\n",
       "</div>"
      ],
      "text/plain": [
       "      GeoID  Year  D_Etab  D_Emp  D_Pay  G_Etab  G_Emp  G_Pay\n",
       "3580   1003  2010      37    271   5046      25   1190  25820\n",
       "3581   1015  2010      30    207   3464      24    734  12338\n",
       "3582   1017  2010       9     66    983       8    200   3634\n",
       "3583   1019  2010       9     43    755       4    114   1612\n",
       "3584   1025  2010      15    158   2467       7    252   4142"
      ]
     },
     "execution_count": 7,
     "metadata": {},
     "output_type": "execute_result"
    }
   ],
   "source": [
    "print(len(dg_2010))\n",
    "dg_2010.head()"
   ]
  },
  {
   "cell_type": "code",
   "execution_count": 8,
   "metadata": {},
   "outputs": [
    {
     "name": "stdout",
     "output_type": "stream",
     "text": [
      "GeoID     int64\n",
      "Year      int64\n",
      "D_Etab    int64\n",
      "D_Emp     int64\n",
      "D_Pay     int64\n",
      "G_Etab    int64\n",
      "G_Emp     int64\n",
      "G_Pay     int64\n",
      "dtype: object\n"
     ]
    }
   ],
   "source": [
    "print(dg_2010.dtypes)\n",
    "\n",
    "# dg_2010 = dg_2010.apply(pd.to_numeric)"
   ]
  },
  {
   "cell_type": "code",
   "execution_count": 9,
   "metadata": {},
   "outputs": [],
   "source": [
    "dg_2010.to_csv(\"Clean_Data/D_G_2010_CLEAN.csv\", index=False, header=True)"
   ]
  },
  {
   "cell_type": "code",
   "execution_count": null,
   "metadata": {},
   "outputs": [],
   "source": []
  },
  {
   "cell_type": "code",
   "execution_count": null,
   "metadata": {},
   "outputs": [],
   "source": []
  }
 ],
 "metadata": {
  "kernelspec": {
   "display_name": "Python 3",
   "language": "python",
   "name": "python3"
  },
  "language_info": {
   "codemirror_mode": {
    "name": "ipython",
    "version": 3
   },
   "file_extension": ".py",
   "mimetype": "text/x-python",
   "name": "python",
   "nbconvert_exporter": "python",
   "pygments_lexer": "ipython3",
   "version": "3.6.7"
  }
 },
 "nbformat": 4,
 "nbformat_minor": 2
}
