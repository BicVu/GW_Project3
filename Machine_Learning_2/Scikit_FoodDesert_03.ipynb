{
 "cells": [
  {
   "cell_type": "code",
   "execution_count": 16,
   "metadata": {},
   "outputs": [],
   "source": [
    "## NOT WORKING"
   ]
  },
  {
   "cell_type": "code",
   "execution_count": null,
   "metadata": {},
   "outputs": [],
   "source": [
    "# https://xcitech.github.io/tutorials/heroku_tutorial/\n",
    "%matplotlib inline\n",
    "import matplotlib.pyplot as plt\n",
    "import numpy as np\n",
    "import pandas\n",
    "import pandas as pd\n",
    "\n",
    "import warnings\n",
    "warnings.simplefilter('ignore', FutureWarning)"
   ]
  },
  {
   "cell_type": "code",
   "execution_count": 2,
   "metadata": {},
   "outputs": [],
   "source": [
    "read_df = pd.read_csv('Clean_Data/ML_2015_CLEAN.csv', encoding='utf-8')"
   ]
  },
  {
   "cell_type": "code",
   "execution_count": 3,
   "metadata": {},
   "outputs": [
    {
     "data": {
      "text/plain": [
       "Index(['GeoID', 'Year', 'D_Etab', 'D_Emp', 'D_Pay', 'G_Etab', 'G_Emp', 'G_Pay',\n",
       "       'Pop_2015', 'FD_num_2015', 'FD_pct_2015'],\n",
       "      dtype='object')"
      ]
     },
     "execution_count": 3,
     "metadata": {},
     "output_type": "execute_result"
    }
   ],
   "source": [
    "read_df.columns"
   ]
  },
  {
   "cell_type": "code",
   "execution_count": 4,
   "metadata": {},
   "outputs": [
    {
     "name": "stdout",
     "output_type": "stream",
     "text": [
      "GeoID            int64\n",
      "Year             int64\n",
      "D_Etab           int64\n",
      "D_Emp            int64\n",
      "D_Pay            int64\n",
      "G_Etab           int64\n",
      "G_Emp            int64\n",
      "G_Pay            int64\n",
      "Pop_2015         int64\n",
      "FD_num_2015      int64\n",
      "FD_pct_2015    float64\n",
      "dtype: object\n"
     ]
    },
    {
     "data": {
      "text/html": [
       "<div>\n",
       "<style scoped>\n",
       "    .dataframe tbody tr th:only-of-type {\n",
       "        vertical-align: middle;\n",
       "    }\n",
       "\n",
       "    .dataframe tbody tr th {\n",
       "        vertical-align: top;\n",
       "    }\n",
       "\n",
       "    .dataframe thead th {\n",
       "        text-align: right;\n",
       "    }\n",
       "</style>\n",
       "<table border=\"1\" class=\"dataframe\">\n",
       "  <thead>\n",
       "    <tr style=\"text-align: right;\">\n",
       "      <th></th>\n",
       "      <th>GeoID</th>\n",
       "      <th>Year</th>\n",
       "      <th>D_Etab</th>\n",
       "      <th>D_Emp</th>\n",
       "      <th>D_Pay</th>\n",
       "      <th>G_Etab</th>\n",
       "      <th>G_Emp</th>\n",
       "      <th>G_Pay</th>\n",
       "      <th>Pop_2015</th>\n",
       "      <th>FD_num_2015</th>\n",
       "      <th>FD_pct_2015</th>\n",
       "    </tr>\n",
       "  </thead>\n",
       "  <tbody>\n",
       "    <tr>\n",
       "      <th>0</th>\n",
       "      <td>1001</td>\n",
       "      <td>2015</td>\n",
       "      <td>11</td>\n",
       "      <td>93</td>\n",
       "      <td>1703</td>\n",
       "      <td>5</td>\n",
       "      <td>283</td>\n",
       "      <td>5691</td>\n",
       "      <td>55035</td>\n",
       "      <td>17497</td>\n",
       "      <td>32.06</td>\n",
       "    </tr>\n",
       "    <tr>\n",
       "      <th>1</th>\n",
       "      <td>1003</td>\n",
       "      <td>2015</td>\n",
       "      <td>50</td>\n",
       "      <td>429</td>\n",
       "      <td>7054</td>\n",
       "      <td>30</td>\n",
       "      <td>1774</td>\n",
       "      <td>36515</td>\n",
       "      <td>203690</td>\n",
       "      <td>30561</td>\n",
       "      <td>16.77</td>\n",
       "    </tr>\n",
       "    <tr>\n",
       "      <th>2</th>\n",
       "      <td>1005</td>\n",
       "      <td>2015</td>\n",
       "      <td>8</td>\n",
       "      <td>60</td>\n",
       "      <td>844</td>\n",
       "      <td>4</td>\n",
       "      <td>159</td>\n",
       "      <td>2733</td>\n",
       "      <td>26270</td>\n",
       "      <td>6070</td>\n",
       "      <td>22.11</td>\n",
       "    </tr>\n",
       "    <tr>\n",
       "      <th>3</th>\n",
       "      <td>1007</td>\n",
       "      <td>2015</td>\n",
       "      <td>5</td>\n",
       "      <td>40</td>\n",
       "      <td>596</td>\n",
       "      <td>5</td>\n",
       "      <td>111</td>\n",
       "      <td>2497</td>\n",
       "      <td>22561</td>\n",
       "      <td>969</td>\n",
       "      <td>4.23</td>\n",
       "    </tr>\n",
       "    <tr>\n",
       "      <th>4</th>\n",
       "      <td>1015</td>\n",
       "      <td>2015</td>\n",
       "      <td>34</td>\n",
       "      <td>263</td>\n",
       "      <td>4461</td>\n",
       "      <td>29</td>\n",
       "      <td>832</td>\n",
       "      <td>15066</td>\n",
       "      <td>115285</td>\n",
       "      <td>27786</td>\n",
       "      <td>23.43</td>\n",
       "    </tr>\n",
       "  </tbody>\n",
       "</table>\n",
       "</div>"
      ],
      "text/plain": [
       "   GeoID  Year  D_Etab  D_Emp  D_Pay  G_Etab  G_Emp  G_Pay  Pop_2015  \\\n",
       "0   1001  2015      11     93   1703       5    283   5691     55035   \n",
       "1   1003  2015      50    429   7054      30   1774  36515    203690   \n",
       "2   1005  2015       8     60    844       4    159   2733     26270   \n",
       "3   1007  2015       5     40    596       5    111   2497     22561   \n",
       "4   1015  2015      34    263   4461      29    832  15066    115285   \n",
       "\n",
       "   FD_num_2015  FD_pct_2015  \n",
       "0        17497        32.06  \n",
       "1        30561        16.77  \n",
       "2         6070        22.11  \n",
       "3          969         4.23  \n",
       "4        27786        23.43  "
      ]
     },
     "execution_count": 4,
     "metadata": {},
     "output_type": "execute_result"
    }
   ],
   "source": [
    "print(read_df.dtypes)\n",
    "read_df.head()"
   ]
  },
  {
   "cell_type": "code",
   "execution_count": null,
   "metadata": {},
   "outputs": [],
   "source": [
    "# Select only columns we want to use in ML\n",
    "# df = read_df[['D_Etab', 'G_Etab', 'Pop_2015', 'FD_num_2015', 'FD_pct_2015']]"
   ]
  },
  {
   "cell_type": "code",
   "execution_count": null,
   "metadata": {},
   "outputs": [],
   "source": [
    "read_df.describe()"
   ]
  },
  {
   "cell_type": "code",
   "execution_count": null,
   "metadata": {},
   "outputs": [],
   "source": [
    "read_df.corr()"
   ]
  },
  {
   "cell_type": "code",
   "execution_count": null,
   "metadata": {},
   "outputs": [],
   "source": [
    "# Plot Dollar Store and Population\n",
    "read_df.plot(x='D_Etab', y='Pop_2015', style='o')  \n",
    "plt.title('Dollar Store & County Population')  \n",
    "plt.xlabel('Dollar Stores')  \n",
    "plt.ylabel('County Pop')\n",
    "\n",
    "plt.figure(figsize=(20,10))\n",
    "plt.tight_layout()\n",
    "plt.show()\n",
    "\n",
    "# Very strong correlation"
   ]
  },
  {
   "cell_type": "code",
   "execution_count": null,
   "metadata": {},
   "outputs": [],
   "source": [
    "# Plot correlation between Dollar Stores & Pop with Low Access to food\n",
    "read_df.plot(x='D_Etab', y='FD_num_2015', style='o')  \n",
    "plt.title('Dollar Store & Low Food Access Population')  \n",
    "plt.xlabel('Dollar Stores')  \n",
    "plt.ylabel('Low Access Food Pop Count')\n",
    "\n",
    "plt.figure(figsize=(20,10))\n",
    "plt.tight_layout()\n",
    "plt.show()\n",
    "\n",
    "# Strong correlation"
   ]
  },
  {
   "cell_type": "code",
   "execution_count": null,
   "metadata": {},
   "outputs": [],
   "source": [
    "# Plot Dollar Stores & Percent of Pop w Low Access\n",
    "read_df.plot(x='D_Etab', y='FD_pct_2015', style='o')  \n",
    "plt.title('Dollar Store & Low Food Access Percentage')  \n",
    "plt.xlabel('Dollar Stores')  \n",
    "plt.ylabel('Low Access Food Pop Percent')\n",
    "\n",
    "plt.figure(figsize=(20,10))\n",
    "plt.tight_layout()\n",
    "plt.show()\n",
    "\n",
    "## Strange if not little correlation"
   ]
  },
  {
   "cell_type": "code",
   "execution_count": null,
   "metadata": {},
   "outputs": [],
   "source": [
    "# Plot Grocery Stores &  Pop with Low Access to food\n",
    "read_df.plot(x='G_Etab', y='FD_num_2015', style='o')  \n",
    "plt.title('Grocery Store & Low Food Access Population')  \n",
    "plt.xlabel('Grocery Stores')  \n",
    "plt.ylabel('Low Access Food Pop Count')\n",
    "\n",
    "plt.figure(figsize=(20,10))\n",
    "plt.tight_layout()\n",
    "plt.show()\n",
    "\n",
    "# Why is this not a negative correlation?"
   ]
  },
  {
   "cell_type": "markdown",
   "metadata": {},
   "source": [
    "### Train model & Set Target\n"
   ]
  },
  {
   "cell_type": "code",
   "execution_count": 4,
   "metadata": {},
   "outputs": [],
   "source": [
    "# Select columns for machine learning processing\n",
    "mldf = read_df[['D_Etab', 'G_Etab', 'Pop_2015', 'FD_num_2015']]"
   ]
  },
  {
   "cell_type": "code",
   "execution_count": 5,
   "metadata": {},
   "outputs": [
    {
     "data": {
      "text/plain": [
       "Index(['D_Etab', 'G_Etab', 'Pop_2015', 'FD_num_2015'], dtype='object')"
      ]
     },
     "execution_count": 5,
     "metadata": {},
     "output_type": "execute_result"
    }
   ],
   "source": [
    "mldf.columns"
   ]
  },
  {
   "cell_type": "code",
   "execution_count": 6,
   "metadata": {},
   "outputs": [
    {
     "name": "stdout",
     "output_type": "stream",
     "text": [
      "(1503, 3) (1503, 1)\n"
     ]
    }
   ],
   "source": [
    "# REFERENCE: 21.01.Stu_Respiratory_Disease\n",
    "# Assign X (data) & y (target)\n",
    "X = mldf[['D_Etab', 'Pop_2015', 'FD_num_2015']]\n",
    "y = mldf['G_Etab'].values.reshape(-1, 1)\n",
    "print(X.shape, y.shape)"
   ]
  },
  {
   "cell_type": "code",
   "execution_count": 7,
   "metadata": {},
   "outputs": [],
   "source": [
    "from sklearn.model_selection import train_test_split\n",
    "X_train, X_test, y_train, y_test = train_test_split(X, y, test_size=0.2, random_state=42)"
   ]
  },
  {
   "cell_type": "code",
   "execution_count": 8,
   "metadata": {},
   "outputs": [
    {
     "data": {
      "text/plain": [
       "LinearRegression(copy_X=True, fit_intercept=True, n_jobs=None,\n",
       "         normalize=False)"
      ]
     },
     "execution_count": 8,
     "metadata": {},
     "output_type": "execute_result"
    }
   ],
   "source": [
    "# Create Linear Regression\n",
    "from sklearn.linear_model import LinearRegression\n",
    "model = LinearRegression()\n",
    "model.fit(X_train, y_train)"
   ]
  },
  {
   "cell_type": "code",
   "execution_count": 9,
   "metadata": {},
   "outputs": [
    {
     "data": {
      "text/plain": [
       "LinearRegression(copy_X=True, fit_intercept=True, n_jobs=None,\n",
       "         normalize=False)"
      ]
     },
     "execution_count": 9,
     "metadata": {},
     "output_type": "execute_result"
    }
   ],
   "source": [
    "predictions = model.predict(X_test)\n",
    "model.fit(X_train, y_train)"
   ]
  },
  {
   "cell_type": "code",
   "execution_count": 10,
   "metadata": {},
   "outputs": [
    {
     "data": {
      "image/png": "[encoded data removed]",
      "text/plain": [
       "<Figure size 432x288 with 1 Axes>"
      ]
     },
     "metadata": {
      "needs_background": "light"
     },
     "output_type": "display_data"
    }
   ],
   "source": [
    "# Plot data selection\n",
    "plt.scatter(model.predict(X_train), model.predict(X_train) - y_train, c=\"blue\", label=\"Training Data\")\n",
    "plt.scatter(model.predict(X_test), model.predict(X_test) - y_test, c=\"orange\", label=\"Testing Data\")\n",
    "\n",
    "plt.legend()\n",
    "plt.hlines(y=0, xmin=y.min(), xmax=y.max())\n",
    "plt.title(\"Residual Plot\")\n",
    "plt.show()"
   ]
  },
  {
   "cell_type": "code",
   "execution_count": 11,
   "metadata": {},
   "outputs": [
    {
     "name": "stdout",
     "output_type": "stream",
     "text": [
      "Training Score: 0.8147899461672728\n",
      "Testing Score: 0.7198608722330415\n"
     ]
    }
   ],
   "source": [
    "training_score = model.score(X_train, y_train)\n",
    "testing_score = model.score(X_test, y_test)\n",
    "\n",
    "print(f\"Training Score: {training_score}\")\n",
    "print(f\"Testing Score: {testing_score}\")"
   ]
  },
  {
   "cell_type": "code",
   "execution_count": 12,
   "metadata": {},
   "outputs": [
    {
     "name": "stdout",
     "output_type": "stream",
     "text": [
      "Weight coefficients:  [[ 2.17163567e+00  1.68845115e-04 -8.68569819e-04]]\n",
      "y-axis intercept:  [-9.05764609]\n"
     ]
    }
   ],
   "source": [
    "print('Weight coefficients: ', model.coef_)\n",
    "print('y-axis intercept: ', model.intercept_)"
   ]
  },
  {
   "cell_type": "code",
   "execution_count": 14,
   "metadata": {},
   "outputs": [
    {
     "data": {
      "text/plain": [
       "array([[ 1.49428614e+00],\n",
       "       [ 7.81261752e+00],\n",
       "       [ 1.03187693e+02],\n",
       "       [ 2.09076846e+01],\n",
       "       [ 6.36623449e+00],\n",
       "       [-3.41417529e+00],\n",
       "       [ 1.39990923e+01],\n",
       "       [ 1.21546288e+01],\n",
       "       [ 2.30299735e+02],\n",
       "       [ 8.39015450e+01],\n",
       "       [-4.71154149e+00],\n",
       "       [ 2.22840389e+01],\n",
       "       [ 5.04402640e+01],\n",
       "       [ 1.67367090e+01],\n",
       "       [ 6.71285980e+00],\n",
       "       [ 1.53537513e+01],\n",
       "       [ 3.02795118e+00],\n",
       "       [ 1.88893657e+01],\n",
       "       [ 3.67899087e+01],\n",
       "       [-4.54775515e+00],\n",
       "       [ 7.78553793e+00],\n",
       "       [ 5.15290586e+00],\n",
       "       [ 1.02348857e+00],\n",
       "       [ 1.45270185e+01],\n",
       "       [ 3.58661408e-01],\n",
       "       [ 5.56671443e+01],\n",
       "       [-3.60975240e+00],\n",
       "       [ 9.04841809e+00],\n",
       "       [ 2.63786652e+01],\n",
       "       [ 1.80657606e+01],\n",
       "       [ 4.10902073e+01],\n",
       "       [-7.55190150e-01],\n",
       "       [ 6.99305648e-01],\n",
       "       [ 1.55979650e+01],\n",
       "       [ 4.00183907e-01],\n",
       "       [ 9.80328099e+00],\n",
       "       [ 7.59327661e+00],\n",
       "       [ 3.63427417e+01],\n",
       "       [-2.92484918e+00],\n",
       "       [ 1.46954120e+01],\n",
       "       [ 4.67593600e+00],\n",
       "       [ 7.38856681e+01],\n",
       "       [ 4.64691098e+00],\n",
       "       [ 2.41069257e+01],\n",
       "       [ 1.12330195e+02],\n",
       "       [ 1.49510005e+01],\n",
       "       [ 2.05171377e+01],\n",
       "       [ 1.02169433e+01],\n",
       "       [ 2.52785557e+01],\n",
       "       [ 1.45325478e+01],\n",
       "       [ 4.09203530e+01],\n",
       "       [ 1.27532006e+01],\n",
       "       [ 9.05084607e+01],\n",
       "       [-2.22492383e+00],\n",
       "       [ 5.45322508e+01],\n",
       "       [ 3.75927425e+00],\n",
       "       [ 2.76492936e+01],\n",
       "       [ 4.88055174e-01],\n",
       "       [ 7.76847681e+01],\n",
       "       [ 4.69641654e+01],\n",
       "       [ 4.29072712e+01],\n",
       "       [ 2.26263476e+01],\n",
       "       [ 2.44649913e+02],\n",
       "       [ 6.49521585e+00],\n",
       "       [ 2.12871540e+01],\n",
       "       [ 1.68911482e+01],\n",
       "       [ 1.57736067e+01],\n",
       "       [ 2.95963374e+01],\n",
       "       [ 5.79739710e+00],\n",
       "       [ 2.40413340e+02],\n",
       "       [ 2.30908883e+00],\n",
       "       [-8.24712733e+00],\n",
       "       [ 2.72641429e+01],\n",
       "       [ 6.10208570e+01],\n",
       "       [ 2.86093925e+01],\n",
       "       [ 1.62413983e+01],\n",
       "       [ 3.03628445e+00],\n",
       "       [ 2.08478483e+01],\n",
       "       [ 1.73240139e+01],\n",
       "       [ 3.44447561e+01],\n",
       "       [ 3.37417689e+00],\n",
       "       [ 2.80893295e+00],\n",
       "       [ 3.30468782e+01],\n",
       "       [ 3.12109297e+01],\n",
       "       [ 1.11351752e+01],\n",
       "       [ 9.85471249e+00],\n",
       "       [ 2.10465570e+01],\n",
       "       [-3.80206211e+00],\n",
       "       [ 1.65232799e+01],\n",
       "       [ 3.40969423e+01],\n",
       "       [ 1.85010766e+01],\n",
       "       [ 2.15527527e+01],\n",
       "       [ 3.96021615e+01],\n",
       "       [ 4.36300625e+01],\n",
       "       [ 5.11790006e+01],\n",
       "       [ 8.19418496e+00],\n",
       "       [ 3.85934458e+00],\n",
       "       [ 1.84325756e+01],\n",
       "       [ 1.28408238e+02],\n",
       "       [ 2.02524152e+01],\n",
       "       [ 9.05499860e+00],\n",
       "       [ 3.27921502e+00],\n",
       "       [ 2.86368587e+00],\n",
       "       [ 1.04273978e+00],\n",
       "       [ 6.36345133e+01],\n",
       "       [ 7.02889474e+00],\n",
       "       [ 5.16147199e+01],\n",
       "       [-2.12413696e+01],\n",
       "       [-1.13895997e+00],\n",
       "       [ 2.26268576e+01],\n",
       "       [ 6.21021383e+01],\n",
       "       [ 1.86560181e+01],\n",
       "       [ 1.00157528e+01],\n",
       "       [ 6.93819476e+00],\n",
       "       [ 1.05743417e+01],\n",
       "       [ 1.26452629e+01],\n",
       "       [ 3.37960302e-01],\n",
       "       [ 1.09083164e+01],\n",
       "       [ 4.89083721e+01],\n",
       "       [ 3.06802165e+01],\n",
       "       [ 2.80496925e+01],\n",
       "       [ 7.46829219e-01],\n",
       "       [ 5.71895471e+00],\n",
       "       [ 2.52400106e+01],\n",
       "       [ 7.01343062e+01],\n",
       "       [ 4.50999872e+00],\n",
       "       [ 2.54195995e+01],\n",
       "       [ 7.81521500e+00],\n",
       "       [ 3.03858189e-01],\n",
       "       [ 1.23016917e+01],\n",
       "       [ 3.96611722e+01],\n",
       "       [ 1.67345614e+01],\n",
       "       [ 6.60250935e+00],\n",
       "       [ 6.93544018e+01],\n",
       "       [-5.53731802e-01],\n",
       "       [-1.68725003e+00],\n",
       "       [ 2.16139631e+01],\n",
       "       [ 1.03210626e+01],\n",
       "       [-3.60486606e+01],\n",
       "       [ 2.71923183e+01],\n",
       "       [ 3.00658403e+02],\n",
       "       [ 2.95702752e+01],\n",
       "       [ 1.78616007e+01],\n",
       "       [ 7.86330338e+01],\n",
       "       [ 6.19267163e+01],\n",
       "       [-5.67928764e+00],\n",
       "       [ 4.77708201e+01],\n",
       "       [ 3.51381376e+01],\n",
       "       [ 1.20780089e+01],\n",
       "       [ 1.90511159e+01],\n",
       "       [ 1.02001389e+01],\n",
       "       [ 1.00598089e+01],\n",
       "       [ 5.07735582e+00],\n",
       "       [ 1.46844976e+02],\n",
       "       [ 2.30975792e+00],\n",
       "       [ 3.53629413e+00],\n",
       "       [ 1.95931733e+01],\n",
       "       [ 6.67715213e+00],\n",
       "       [ 5.25317730e+01],\n",
       "       [ 2.67022926e+01],\n",
       "       [ 3.95729862e+01],\n",
       "       [ 4.10768730e+01],\n",
       "       [ 1.03880242e+01],\n",
       "       [ 8.53960593e+00],\n",
       "       [ 1.09752280e+01],\n",
       "       [-1.21071504e+00],\n",
       "       [-3.61195193e+00],\n",
       "       [ 3.00975941e+02],\n",
       "       [ 3.40830762e+00],\n",
       "       [ 1.73947676e+01],\n",
       "       [ 2.19691082e+00],\n",
       "       [ 5.01414907e+00],\n",
       "       [ 1.06272679e+01],\n",
       "       [ 8.43741461e+00],\n",
       "       [ 2.57508403e+01],\n",
       "       [ 1.08249792e+02],\n",
       "       [ 7.05504767e+02],\n",
       "       [ 5.45556941e+01],\n",
       "       [ 2.29042060e+01],\n",
       "       [ 1.02947783e+01],\n",
       "       [ 9.93754673e+00],\n",
       "       [ 4.17022399e+01],\n",
       "       [ 2.88427720e+01],\n",
       "       [ 8.61772600e+00],\n",
       "       [ 1.57649639e+01],\n",
       "       [ 7.22606285e+00],\n",
       "       [ 5.31466874e-02],\n",
       "       [ 2.00772956e+02],\n",
       "       [ 5.95321455e+00],\n",
       "       [ 2.45080757e+01],\n",
       "       [ 3.61405727e+02],\n",
       "       [ 3.97239768e+01],\n",
       "       [ 1.81994674e+01],\n",
       "       [ 2.87795071e+01],\n",
       "       [ 9.29555562e+00],\n",
       "       [ 7.41477594e+00],\n",
       "       [ 1.11517739e+01],\n",
       "       [ 5.23638415e+01],\n",
       "       [ 1.19101130e+01],\n",
       "       [-4.07096361e-01],\n",
       "       [ 1.52740698e+01],\n",
       "       [ 3.31506961e+01],\n",
       "       [ 1.90030548e+01],\n",
       "       [ 2.07598238e+01],\n",
       "       [ 3.71974778e+00],\n",
       "       [ 2.59362548e+01],\n",
       "       [ 4.84360381e+01],\n",
       "       [ 5.36681064e+01],\n",
       "       [ 4.39477757e+01],\n",
       "       [ 1.15522442e+01],\n",
       "       [ 7.20310509e+00],\n",
       "       [ 4.37014591e+01],\n",
       "       [ 7.72951838e+02],\n",
       "       [ 8.05860516e+00],\n",
       "       [ 3.27313768e+00],\n",
       "       [ 6.76520243e+00],\n",
       "       [ 1.05768957e+02],\n",
       "       [ 3.51913996e+01],\n",
       "       [ 1.44035451e+02],\n",
       "       [ 2.96676906e+00],\n",
       "       [ 1.23786991e+01],\n",
       "       [ 7.07588385e+01],\n",
       "       [ 2.95892475e+01],\n",
       "       [ 1.18985735e+01],\n",
       "       [ 4.44676758e+00],\n",
       "       [ 1.68187810e+01],\n",
       "       [ 3.69831848e+02],\n",
       "       [-2.99075573e+00],\n",
       "       [ 2.23671180e-01],\n",
       "       [-5.45796794e+00],\n",
       "       [ 2.23150006e+01],\n",
       "       [ 8.83915064e+00],\n",
       "       [ 5.77756548e+01],\n",
       "       [-2.42693953e+00],\n",
       "       [ 5.43897988e+01],\n",
       "       [ 2.86632852e+01],\n",
       "       [ 1.38561852e+01],\n",
       "       [ 8.52143748e+01],\n",
       "       [ 2.09372831e+01],\n",
       "       [ 4.73929098e+01],\n",
       "       [-4.73245656e+00],\n",
       "       [ 3.11734932e+01],\n",
       "       [ 4.22995063e+00],\n",
       "       [ 6.00037088e+01],\n",
       "       [ 4.93605272e+00],\n",
       "       [ 6.14975989e+00],\n",
       "       [ 1.00181770e+02],\n",
       "       [-1.46902592e+00],\n",
       "       [ 4.10397593e+00],\n",
       "       [ 2.70020538e+01],\n",
       "       [ 1.51022534e+02],\n",
       "       [ 4.17117591e+01],\n",
       "       [ 3.31109375e+01],\n",
       "       [ 8.45243173e+01],\n",
       "       [ 2.18321344e+01],\n",
       "       [ 3.98356387e+00],\n",
       "       [ 2.71046924e+00],\n",
       "       [ 1.88376903e+01],\n",
       "       [ 8.45204994e+00],\n",
       "       [-2.69527202e+00],\n",
       "       [ 1.08941631e+01],\n",
       "       [ 1.53791232e+02],\n",
       "       [ 7.25308370e+01],\n",
       "       [ 5.19746371e+01],\n",
       "       [ 6.22239129e+00],\n",
       "       [ 1.19555233e+01],\n",
       "       [ 7.25409574e+01],\n",
       "       [ 5.02928183e+01],\n",
       "       [ 1.53546358e+02],\n",
       "       [ 6.30518080e+01],\n",
       "       [ 9.30527129e+00],\n",
       "       [ 2.37688518e+01],\n",
       "       [-4.28910079e+00],\n",
       "       [ 2.73774298e+00],\n",
       "       [ 5.67604958e+00],\n",
       "       [ 3.48188823e+00],\n",
       "       [ 2.39835057e+01],\n",
       "       [ 3.14544845e+01],\n",
       "       [ 1.94673684e+02],\n",
       "       [ 1.27921321e+01],\n",
       "       [ 2.16613970e+01],\n",
       "       [ 8.77539660e+00],\n",
       "       [ 5.77269549e+00],\n",
       "       [ 1.15664206e+01],\n",
       "       [ 1.45376144e+01],\n",
       "       [ 1.80829451e+01],\n",
       "       [ 7.03997056e+00],\n",
       "       [ 9.11241389e+00],\n",
       "       [ 2.51728631e+01],\n",
       "       [ 4.49543603e+01],\n",
       "       [ 7.01605803e+00],\n",
       "       [ 1.47419903e+01],\n",
       "       [ 7.85924389e+01],\n",
       "       [ 1.04279217e+02],\n",
       "       [-6.49573871e-01],\n",
       "       [ 1.67463325e+01],\n",
       "       [ 2.86545129e+01],\n",
       "       [ 9.71600811e+00],\n",
       "       [ 1.69675650e+02],\n",
       "       [ 2.19600201e+02],\n",
       "       [-5.06112006e+00]])"
      ]
     },
     "execution_count": 14,
     "metadata": {},
     "output_type": "execute_result"
    }
   ],
   "source": [
    "predictions"
   ]
  },
  {
   "cell_type": "code",
   "execution_count": 15,
   "metadata": {},
   "outputs": [
    {
     "data": {
      "text/plain": [
       "array([[  6],\n",
       "       [  9],\n",
       "       [ 48],\n",
       "       [ 11],\n",
       "       [ 11],\n",
       "       [  3],\n",
       "       [ 17],\n",
       "       [  8],\n",
       "       [214],\n",
       "       [ 90],\n",
       "       [ 11],\n",
       "       [ 38],\n",
       "       [ 32],\n",
       "       [ 13],\n",
       "       [  5],\n",
       "       [  9],\n",
       "       [  6],\n",
       "       [ 11],\n",
       "       [111],\n",
       "       [  5],\n",
       "       [  5],\n",
       "       [  3],\n",
       "       [  3],\n",
       "       [ 35],\n",
       "       [  8],\n",
       "       [ 16],\n",
       "       [  6],\n",
       "       [  6],\n",
       "       [ 34],\n",
       "       [ 27],\n",
       "       [ 14],\n",
       "       [  4],\n",
       "       [  5],\n",
       "       [  8],\n",
       "       [  5],\n",
       "       [ 19],\n",
       "       [  4],\n",
       "       [ 27],\n",
       "       [  3],\n",
       "       [ 31],\n",
       "       [  7],\n",
       "       [ 52],\n",
       "       [  6],\n",
       "       [ 13],\n",
       "       [262],\n",
       "       [ 12],\n",
       "       [ 45],\n",
       "       [ 27],\n",
       "       [  6],\n",
       "       [ 17],\n",
       "       [ 17],\n",
       "       [  7],\n",
       "       [ 61],\n",
       "       [  7],\n",
       "       [ 30],\n",
       "       [ 10],\n",
       "       [ 12],\n",
       "       [  3],\n",
       "       [ 25],\n",
       "       [ 23],\n",
       "       [ 31],\n",
       "       [ 31],\n",
       "       [315],\n",
       "       [  6],\n",
       "       [ 12],\n",
       "       [ 15],\n",
       "       [  6],\n",
       "       [ 15],\n",
       "       [  4],\n",
       "       [282],\n",
       "       [  3],\n",
       "       [ 43],\n",
       "       [ 28],\n",
       "       [ 33],\n",
       "       [ 10],\n",
       "       [  8],\n",
       "       [  3],\n",
       "       [ 16],\n",
       "       [ 11],\n",
       "       [ 45],\n",
       "       [ 11],\n",
       "       [  4],\n",
       "       [  9],\n",
       "       [ 16],\n",
       "       [  6],\n",
       "       [  8],\n",
       "       [ 14],\n",
       "       [ 17],\n",
       "       [  8],\n",
       "       [ 13],\n",
       "       [ 46],\n",
       "       [ 10],\n",
       "       [ 15],\n",
       "       [ 28],\n",
       "       [ 65],\n",
       "       [ 16],\n",
       "       [  5],\n",
       "       [ 14],\n",
       "       [ 73],\n",
       "       [  6],\n",
       "       [  6],\n",
       "       [  5],\n",
       "       [ 29],\n",
       "       [  5],\n",
       "       [ 30],\n",
       "       [  5],\n",
       "       [ 14],\n",
       "       [  9],\n",
       "       [  4],\n",
       "       [ 10],\n",
       "       [ 16],\n",
       "       [  7],\n",
       "       [  4],\n",
       "       [  9],\n",
       "       [  4],\n",
       "       [  9],\n",
       "       [  6],\n",
       "       [  9],\n",
       "       [145],\n",
       "       [ 11],\n",
       "       [ 43],\n",
       "       [ 15],\n",
       "       [ 10],\n",
       "       [ 13],\n",
       "       [ 19],\n",
       "       [  8],\n",
       "       [ 12],\n",
       "       [  9],\n",
       "       [  8],\n",
       "       [  4],\n",
       "       [ 10],\n",
       "       [ 17],\n",
       "       [  4],\n",
       "       [ 76],\n",
       "       [ 18],\n",
       "       [  5],\n",
       "       [  8],\n",
       "       [ 26],\n",
       "       [ 44],\n",
       "       [ 19],\n",
       "       [277],\n",
       "       [ 10],\n",
       "       [  7],\n",
       "       [ 26],\n",
       "       [ 33],\n",
       "       [ 12],\n",
       "       [ 85],\n",
       "       [ 16],\n",
       "       [ 10],\n",
       "       [ 16],\n",
       "       [ 12],\n",
       "       [  6],\n",
       "       [ 18],\n",
       "       [ 72],\n",
       "       [  6],\n",
       "       [  4],\n",
       "       [ 24],\n",
       "       [  5],\n",
       "       [ 16],\n",
       "       [ 17],\n",
       "       [ 16],\n",
       "       [ 11],\n",
       "       [ 16],\n",
       "       [  7],\n",
       "       [  6],\n",
       "       [  7],\n",
       "       [  3],\n",
       "       [370],\n",
       "       [  6],\n",
       "       [  3],\n",
       "       [ 25],\n",
       "       [  6],\n",
       "       [ 22],\n",
       "       [ 16],\n",
       "       [  6],\n",
       "       [ 29],\n",
       "       [525],\n",
       "       [ 13],\n",
       "       [ 10],\n",
       "       [ 15],\n",
       "       [  7],\n",
       "       [  8],\n",
       "       [ 20],\n",
       "       [  6],\n",
       "       [  7],\n",
       "       [  3],\n",
       "       [ 12],\n",
       "       [ 70],\n",
       "       [ 11],\n",
       "       [ 14],\n",
       "       [245],\n",
       "       [ 52],\n",
       "       [  8],\n",
       "       [ 24],\n",
       "       [  6],\n",
       "       [  6],\n",
       "       [ 13],\n",
       "       [ 61],\n",
       "       [  4],\n",
       "       [  3],\n",
       "       [ 15],\n",
       "       [ 14],\n",
       "       [  5],\n",
       "       [ 14],\n",
       "       [  5],\n",
       "       [  9],\n",
       "       [ 20],\n",
       "       [ 22],\n",
       "       [ 16],\n",
       "       [ 26],\n",
       "       [  7],\n",
       "       [ 16],\n",
       "       [496],\n",
       "       [  9],\n",
       "       [  3],\n",
       "       [  4],\n",
       "       [ 69],\n",
       "       [ 13],\n",
       "       [121],\n",
       "       [  4],\n",
       "       [  4],\n",
       "       [ 49],\n",
       "       [  8],\n",
       "       [  7],\n",
       "       [  7],\n",
       "       [ 14],\n",
       "       [234],\n",
       "       [  5],\n",
       "       [  4],\n",
       "       [ 18],\n",
       "       [  9],\n",
       "       [  7],\n",
       "       [ 24],\n",
       "       [  5],\n",
       "       [ 12],\n",
       "       [  9],\n",
       "       [ 12],\n",
       "       [ 45],\n",
       "       [ 17],\n",
       "       [ 22],\n",
       "       [  5],\n",
       "       [ 24],\n",
       "       [  6],\n",
       "       [ 57],\n",
       "       [  5],\n",
       "       [  6],\n",
       "       [ 57],\n",
       "       [  4],\n",
       "       [  6],\n",
       "       [ 10],\n",
       "       [112],\n",
       "       [  8],\n",
       "       [ 11],\n",
       "       [144],\n",
       "       [ 10],\n",
       "       [  5],\n",
       "       [ 10],\n",
       "       [  4],\n",
       "       [ 20],\n",
       "       [  4],\n",
       "       [  9],\n",
       "       [159],\n",
       "       [ 35],\n",
       "       [ 15],\n",
       "       [  3],\n",
       "       [  9],\n",
       "       [ 40],\n",
       "       [ 13],\n",
       "       [115],\n",
       "       [ 65],\n",
       "       [  6],\n",
       "       [ 41],\n",
       "       [  9],\n",
       "       [  6],\n",
       "       [  8],\n",
       "       [  4],\n",
       "       [ 12],\n",
       "       [ 19],\n",
       "       [132],\n",
       "       [  3],\n",
       "       [ 39],\n",
       "       [  4],\n",
       "       [  5],\n",
       "       [ 26],\n",
       "       [  5],\n",
       "       [  7],\n",
       "       [  5],\n",
       "       [  6],\n",
       "       [ 18],\n",
       "       [ 13],\n",
       "       [  8],\n",
       "       [  9],\n",
       "       [ 36],\n",
       "       [204],\n",
       "       [  3],\n",
       "       [  6],\n",
       "       [ 18],\n",
       "       [  7],\n",
       "       [103],\n",
       "       [189],\n",
       "       [ 89]])"
      ]
     },
     "execution_count": 15,
     "metadata": {},
     "output_type": "execute_result"
    }
   ],
   "source": [
    "y_test"
   ]
  },
  {
   "cell_type": "code",
   "execution_count": null,
   "metadata": {},
   "outputs": [],
   "source": []
  },
  {
   "cell_type": "code",
   "execution_count": null,
   "metadata": {},
   "outputs": [],
   "source": []
  },
  {
   "cell_type": "code",
   "execution_count": 26,
   "metadata": {},
   "outputs": [
    {
     "ename": "SyntaxError",
     "evalue": "invalid syntax (<ipython-input-26-3852fbae9a15>, line 1)",
     "output_type": "error",
     "traceback": [
      "\u001b[0;36m  File \u001b[0;32m\"<ipython-input-26-3852fbae9a15>\"\u001b[0;36m, line \u001b[0;32m1\u001b[0m\n\u001b[0;31m    check_df = pd.DataFrame('Actual': y_test_std, 'Predicted': predictions)\u001b[0m\n\u001b[0m                                    ^\u001b[0m\n\u001b[0;31mSyntaxError\u001b[0m\u001b[0;31m:\u001b[0m invalid syntax\n"
     ]
    }
   ],
   "source": [
    "check_df = pd.DataFrame({'Actual': y_test_std, 'Predicted': predictions})\n",
    "print(len(check_df))\n",
    "check_df.head()"
   ]
  },
  {
   "cell_type": "code",
   "execution_count": null,
   "metadata": {},
   "outputs": [],
   "source": []
  },
  {
   "cell_type": "code",
   "execution_count": null,
   "metadata": {},
   "outputs": [],
   "source": []
  },
  {
   "cell_type": "code",
   "execution_count": null,
   "metadata": {},
   "outputs": [],
   "source": []
  },
  {
   "cell_type": "code",
   "execution_count": null,
   "metadata": {},
   "outputs": [],
   "source": [
    "X = mldf.drop(\"G_Etab\", axis=1) # drop target feature column\n",
    "y = mldf[\"G_Etab\"]\n",
    "print(X.shape, y.shape)"
   ]
  },
  {
   "cell_type": "code",
   "execution_count": null,
   "metadata": {},
   "outputs": [],
   "source": [
    "from sklearn.model_selection import train_test_split\n",
    "X_train, X_test, y_train, y_test = train_test_split(X, y, test_size=0.2, random_state=42)"
   ]
  },
  {
   "cell_type": "code",
   "execution_count": null,
   "metadata": {},
   "outputs": [],
   "source": [
    "# Scale Data with Standard Scaler\n",
    "\n",
    "from sklearn.preprocessing import StandardScaler\n",
    "sc = StandardScaler()\n",
    "sc.fit(X_train)\n",
    "X_train_std = sc.transform(X_train)\n",
    "X_test_std = sc.transform(X_test)"
   ]
  },
  {
   "cell_type": "code",
   "execution_count": null,
   "metadata": {},
   "outputs": [],
   "source": [
    "from sklearn.datasets import make_regression\n",
    "\n",
    "n_features = 3\n",
    "n_samples = len(mldf)\n",
    "X_train_std, y_train = make_regression(n_samples=n_samples, n_features=n_features, \n",
    "                       n_informative=n_features, random_state=42, \n",
    "                       noise=0.5, bias=100.0)"
   ]
  },
  {
   "cell_type": "code",
   "execution_count": null,
   "metadata": {},
   "outputs": [],
   "source": [
    "from sklearn.linear_model import LinearRegression\n",
    "model = LinearRegression()"
   ]
  },
  {
   "cell_type": "code",
   "execution_count": null,
   "metadata": {},
   "outputs": [],
   "source": [
    "model.fit(X_train_std, y_train)"
   ]
  },
  {
   "cell_type": "code",
   "execution_count": null,
   "metadata": {},
   "outputs": [],
   "source": [
    "X_train_std"
   ]
  },
  {
   "cell_type": "code",
   "execution_count": null,
   "metadata": {},
   "outputs": [],
   "source": [
    "training_score = model.score(X_train_std, y_train)\n",
    "testing_score = model.score(X_test_std, y_test)\n",
    "\n",
    "print(f\"Training Score: {training_score}\")\n",
    "print(f\"Testing Score: {testing_score}\")"
   ]
  },
  {
   "cell_type": "code",
   "execution_count": null,
   "metadata": {},
   "outputs": [],
   "source": [
    "print('Weight coefficients: ', model.coef_)\n",
    "print('y-axis intercept: ', model.intercept_)"
   ]
  },
  {
   "cell_type": "code",
   "execution_count": null,
   "metadata": {},
   "outputs": [],
   "source": [
    "predictions=model.predict(X_test)\n",
    "print(len(predictions))"
   ]
  },
  {
   "cell_type": "code",
   "execution_count": null,
   "metadata": {},
   "outputs": [],
   "source": [
    "# Plot data selection\n",
    "plt.scatter(model.predict(X_train), model.predict(X_train) - y_train, c=\"blue\", label=\"Training Data\")\n",
    "plt.scatter(model.predict(X_test), model.predict(X_test) - y_test, c=\"orange\", label=\"Testing Data\")\n",
    "\n",
    "plt.legend()\n",
    "plt.hlines(y=0, xmin=y.min(), xmax=y.max())\n",
    "plt.title(\"Residual Plot\")"
   ]
  },
  {
   "cell_type": "code",
   "execution_count": null,
   "metadata": {},
   "outputs": [],
   "source": [
    "check_df = pd.DataFrame({'Actual': y_test, 'Predicted': predictions})\n",
    "print(len(check_df))\n",
    "check_df.head()"
   ]
  },
  {
   "cell_type": "code",
   "execution_count": null,
   "metadata": {},
   "outputs": [],
   "source": []
  },
  {
   "cell_type": "code",
   "execution_count": null,
   "metadata": {},
   "outputs": [],
   "source": []
  },
  {
   "cell_type": "code",
   "execution_count": null,
   "metadata": {},
   "outputs": [],
   "source": []
  },
  {
   "cell_type": "code",
   "execution_count": null,
   "metadata": {},
   "outputs": [],
   "source": []
  },
  {
   "cell_type": "code",
   "execution_count": null,
   "metadata": {},
   "outputs": [],
   "source": []
  },
  {
   "cell_type": "code",
   "execution_count": null,
   "metadata": {},
   "outputs": [],
   "source": [
    "from sklearn.datasets import make_regression\n",
    "\n",
    "n_features = 3\n",
    "n_samples = len(mldf)\n",
    "X_train, y_train = make_regression(n_samples=n_samples, n_features=n_features, \n",
    "                       n_informative=n_features, random_state=42, \n",
    "                       noise=0.5, bias=100.0)"
   ]
  },
  {
   "cell_type": "code",
   "execution_count": null,
   "metadata": {},
   "outputs": [],
   "source": [
    "X_train.head()"
   ]
  },
  {
   "cell_type": "markdown",
   "metadata": {},
   "source": [
    "### Make pipeline"
   ]
  },
  {
   "cell_type": "code",
   "execution_count": null,
   "metadata": {},
   "outputs": [],
   "source": [
    "# from sklearn.pipeline import make_pipeline\n",
    "# from sklearn.externals import joblib"
   ]
  },
  {
   "cell_type": "markdown",
   "metadata": {},
   "source": [
    "### Scale data"
   ]
  },
  {
   "cell_type": "code",
   "execution_count": null,
   "metadata": {},
   "outputs": [],
   "source": [
    "# Min Max Scaler\n",
    "\n",
    "from sklearn.preprocessing import MinMaxScaler\n",
    "\n",
    "X_scaler = MinMaxScaler().fit(X_train)\n",
    "X_train_scaled = X_scaler.transform(X_train)\n",
    "X_test_scaled = X_scaler.transform(X_test)"
   ]
  },
  {
   "cell_type": "code",
   "execution_count": null,
   "metadata": {},
   "outputs": [],
   "source": [
    "# Robust Scaler\n",
    "# https://towardsdatascience.com/preprocessing-with-sklearn-a-complete-and-comprehensive-guide-670cb98fcfb9\n",
    "\n",
    "# from sklearn.preprocessing import RobustScaler\n",
    "# robust = RobustScaler(quantile_range = (0.1,0.9))\n",
    "# robust.fit_transform(X_train.f3.values.reshape(-1, 1))"
   ]
  },
  {
   "cell_type": "code",
   "execution_count": null,
   "metadata": {},
   "outputs": [],
   "source": [
    "# Standard Scaler: Less sensitive to outliers\n",
    "# https://www.bogotobogo.com/python/scikit-learn/scikit_machine_learning_Data_Preprocessing-II-Datasets-Partitioning-Feature-scaling-Feature-Selection-Regularization.php\n",
    "\n",
    "from sklearn.preprocessing import StandardScaler\n",
    "sc = StandardScaler()\n",
    "sc.fit(X_train)\n",
    "X_train_std = sc.transform(X_train)\n",
    "X_test_std = sc.transform(X_test)"
   ]
  },
  {
   "cell_type": "code",
   "execution_count": null,
   "metadata": {},
   "outputs": [],
   "source": [
    "# Plot scaled data comparison\n",
    "\n",
    "xx = np.arange(len(X_train_std))\n",
    "yy1 = X_train_scaled[:,1] # Overfitted\n",
    "yy2 = X_train_std[:,1]\n",
    "plt.scatter(xx, yy2, color='r')\n",
    "plt.scatter(xx, yy1, color='b')\n"
   ]
  },
  {
   "cell_type": "code",
   "execution_count": null,
   "metadata": {},
   "outputs": [],
   "source": [
    "check_df = pd.DataFrame({'Actual': y_test, 'Predicted': predictions})\n",
    "print(len(check_df))\n",
    "check_df.head()"
   ]
  },
  {
   "cell_type": "code",
   "execution_count": null,
   "metadata": {},
   "outputs": [],
   "source": []
  },
  {
   "cell_type": "code",
   "execution_count": null,
   "metadata": {},
   "outputs": [],
   "source": []
  },
  {
   "cell_type": "code",
   "execution_count": null,
   "metadata": {},
   "outputs": [],
   "source": []
  },
  {
   "cell_type": "code",
   "execution_count": null,
   "metadata": {},
   "outputs": [],
   "source": []
  },
  {
   "cell_type": "markdown",
   "metadata": {},
   "source": [
    "## Machine Learning"
   ]
  },
  {
   "cell_type": "code",
   "execution_count": null,
   "metadata": {},
   "outputs": [],
   "source": [
    "# Used example of Example 21.1.2 Stu_LSD\n",
    "from sklearn.linear_model import LinearRegression\n",
    "model = LinearRegression()"
   ]
  },
  {
   "cell_type": "code",
   "execution_count": null,
   "metadata": {},
   "outputs": [],
   "source": [
    "model.fit(X_train_std, y_train)\n",
    "training_score = model.score(X_train_std, y_train)\n",
    "testing_score = model.score(X_test_std, y_test)\n",
    "\n",
    "print(f\"Training Score: {training_score}\")\n",
    "print(f\"Testing Score: {testing_score}\")"
   ]
  },
  {
   "cell_type": "code",
   "execution_count": null,
   "metadata": {},
   "outputs": [],
   "source": [
    "print('Weight coefficients: ', model.coef_)\n",
    "print('y-axis intercept: ', model.intercept_)\n",
    "\n",
    "# 'D_Etab', 'D_Emp', 'D_Pay', 'G_Emp','G_Pay'\n"
   ]
  },
  {
   "cell_type": "code",
   "execution_count": null,
   "metadata": {},
   "outputs": [],
   "source": [
    "x_min = np.array([[X.min()]])\n",
    "x_max = np.array([[X.max()]])\n",
    "print(f\"Min X Value: {x_min}\")\n",
    "print(f\"Max X Value: {x_max}\")"
   ]
  },
  {
   "cell_type": "code",
   "execution_count": null,
   "metadata": {},
   "outputs": [],
   "source": [
    "# Plot the Residuals for the Training and Testing data\n",
    "\n",
    "plt.scatter(model.predict(X_train_std), model.predict(X_train_std) - y_train, c=\"blue\", label=\"Training Data\")\n",
    "plt.scatter(model.predict(X_test_std), model.predict(X_test_std) - y_test, c=\"orange\", label=\"Testing Data\")\n",
    "\n",
    "plt.legend()\n",
    "plt.hlines(y=0, xmin=y.min(), xmax=y.max())\n",
    "plt.title(\"Residual Plot\")\n"
   ]
  },
  {
   "cell_type": "code",
   "execution_count": null,
   "metadata": {},
   "outputs": [],
   "source": [
    "predictions=model.predict(X_test_std)\n",
    "print(len(predictions))"
   ]
  },
  {
   "cell_type": "code",
   "execution_count": null,
   "metadata": {},
   "outputs": [],
   "source": [
    "check_df = pd.DataFrame({'Actual': y_test, 'Predicted': predictions})\n",
    "print(len(check_df))\n",
    "check_df.head()"
   ]
  },
  {
   "cell_type": "code",
   "execution_count": null,
   "metadata": {},
   "outputs": [],
   "source": [
    "# Evaluate performance of algorithm with error margins\n",
    "from sklearn import metrics\n",
    "print('Mean Absolute Error:', metrics.mean_absolute_error(y_test, predictions))\n",
    "print('Mean Squared Error:', metrics.mean_squared_error(y_test, predictions))\n",
    "print('Root Mean Squared Error:', np.sqrt(metrics.mean_squared_error(y_test, predictions)))"
   ]
  },
  {
   "cell_type": "markdown",
   "metadata": {},
   "source": [
    "### In a Pickle 🥒"
   ]
  },
  {
   "cell_type": "code",
   "execution_count": null,
   "metadata": {},
   "outputs": [],
   "source": [
    "import pickle"
   ]
  },
  {
   "cell_type": "code",
   "execution_count": null,
   "metadata": {},
   "outputs": [],
   "source": [
    "filename='Regressor_model.sav'"
   ]
  },
  {
   "cell_type": "code",
   "execution_count": null,
   "metadata": {},
   "outputs": [],
   "source": [
    "pickle.dump(model, open(filename, 'wb'))"
   ]
  },
  {
   "cell_type": "code",
   "execution_count": null,
   "metadata": {},
   "outputs": [],
   "source": [
    "load_lr_model =pickle.load(open(filename, 'rb'))"
   ]
  },
  {
   "cell_type": "code",
   "execution_count": null,
   "metadata": {},
   "outputs": [],
   "source": [
    "load_lr_model.coef_"
   ]
  },
  {
   "cell_type": "code",
   "execution_count": null,
   "metadata": {},
   "outputs": [],
   "source": [
    "y_load_predit=load_lr_model.predict(X_test)"
   ]
  },
  {
   "cell_type": "code",
   "execution_count": null,
   "metadata": {},
   "outputs": [],
   "source": [
    "from sklearn.externals import joblib"
   ]
  },
  {
   "cell_type": "code",
   "execution_count": null,
   "metadata": {},
   "outputs": [],
   "source": [
    "joblib.dump(model, 'reg_1.sav')"
   ]
  },
  {
   "cell_type": "code",
   "execution_count": null,
   "metadata": {},
   "outputs": [],
   "source": [
    "joblib_model= joblib.load('reg_1.sav')"
   ]
  },
  {
   "cell_type": "code",
   "execution_count": null,
   "metadata": {},
   "outputs": [],
   "source": [
    "import json\n",
    "model_param = {}\n",
    "model_param['coef'] = list(model.coef_)\n",
    "model_param['intercept'] = model.intercept_.tolist()"
   ]
  },
  {
   "cell_type": "code",
   "execution_count": null,
   "metadata": {},
   "outputs": [],
   "source": [
    "json_txt = json.dumps(model_param, indent=4)\n"
   ]
  },
  {
   "cell_type": "code",
   "execution_count": null,
   "metadata": {},
   "outputs": [],
   "source": [
    "with open('regressor_param.txt', 'w') as file:\n",
    "    file.write(json_txt)"
   ]
  },
  {
   "cell_type": "code",
   "execution_count": null,
   "metadata": {},
   "outputs": [],
   "source": [
    "with open('regressor_param.txt', 'r') as file:\n",
    "    json_text=json.load(file)\n",
    "json_text"
   ]
  },
  {
   "cell_type": "code",
   "execution_count": null,
   "metadata": {},
   "outputs": [],
   "source": []
  },
  {
   "cell_type": "code",
   "execution_count": null,
   "metadata": {},
   "outputs": [],
   "source": [
    "# Create the GridSearchCV model (Cross Value model)\n",
    "from sklearn.model_selection import GridSearchCV\n",
    "param_grid = {'C': [1, 5, 10], # how many times run\n",
    "              'gamma': [0.0001, 0.0005, 0.001]}\n",
    "grid = GridSearchCV(model, param_grid, verbose=3)"
   ]
  },
  {
   "cell_type": "code",
   "execution_count": null,
   "metadata": {},
   "outputs": [],
   "source": []
  },
  {
   "cell_type": "code",
   "execution_count": null,
   "metadata": {},
   "outputs": [],
   "source": []
  },
  {
   "cell_type": "code",
   "execution_count": null,
   "metadata": {},
   "outputs": [],
   "source": []
  },
  {
   "cell_type": "code",
   "execution_count": null,
   "metadata": {},
   "outputs": [],
   "source": []
  },
  {
   "cell_type": "markdown",
   "metadata": {},
   "source": [
    "### Make Predictions "
   ]
  },
  {
   "cell_type": "code",
   "execution_count": null,
   "metadata": {},
   "outputs": [],
   "source": [
    "nn_predict = model.predict(X)"
   ]
  },
  {
   "cell_type": "code",
   "execution_count": null,
   "metadata": {},
   "outputs": [],
   "source": [
    "nn_predict"
   ]
  },
  {
   "cell_type": "code",
   "execution_count": null,
   "metadata": {},
   "outputs": [],
   "source": [
    "nn_df = pd.DataFrame({'New':nn_predict})"
   ]
  },
  {
   "cell_type": "code",
   "execution_count": null,
   "metadata": {},
   "outputs": [],
   "source": [
    "nn_df.head()"
   ]
  },
  {
   "cell_type": "code",
   "execution_count": null,
   "metadata": {},
   "outputs": [],
   "source": [
    "# https://machinelearningmastery.com/make-predictions-scikit-learn/"
   ]
  },
  {
   "cell_type": "code",
   "execution_count": null,
   "metadata": {},
   "outputs": [],
   "source": [
    "X, y = make_regression(n_samples=11607, n_features=n_features, \n",
    "                       n_informative=n_features, random_state=42, \n",
    "                       noise=0.5, bias=100.0)"
   ]
  },
  {
   "cell_type": "code",
   "execution_count": null,
   "metadata": {},
   "outputs": [],
   "source": [
    "Xnew, _ = make_regression(\n",
    "    n_samples=11607, n_features=n_features, noise=0.5, random_state=42)\n",
    "print(X.shape, y.shape)"
   ]
  },
  {
   "cell_type": "code",
   "execution_count": null,
   "metadata": {},
   "outputs": [],
   "source": [
    "\n",
    "new_predictions = model.predict(Xnew)"
   ]
  },
  {
   "cell_type": "code",
   "execution_count": null,
   "metadata": {},
   "outputs": [],
   "source": [
    "new_df = pd.DataFrame({'New':new_predictions})"
   ]
  },
  {
   "cell_type": "code",
   "execution_count": null,
   "metadata": {},
   "outputs": [],
   "source": [
    "new_df.head()"
   ]
  },
  {
   "cell_type": "code",
   "execution_count": null,
   "metadata": {},
   "outputs": [],
   "source": [
    "xfit = np.linspace(-1,11)"
   ]
  },
  {
   "cell_type": "code",
   "execution_count": null,
   "metadata": {},
   "outputs": [],
   "source": [
    "Xfit = xfit[:, np.]"
   ]
  },
  {
   "cell_type": "code",
   "execution_count": null,
   "metadata": {},
   "outputs": [],
   "source": []
  },
  {
   "cell_type": "code",
   "execution_count": null,
   "metadata": {},
   "outputs": [],
   "source": [
    "# check_df = pd.DataFrame({'Actual': y_test, 'Predicted': predictions, 'New':new_predictions})"
   ]
  },
  {
   "cell_type": "code",
   "execution_count": null,
   "metadata": {},
   "outputs": [],
   "source": [
    "# check_df.head()"
   ]
  },
  {
   "cell_type": "markdown",
   "metadata": {},
   "source": [
    "### More prediction test"
   ]
  },
  {
   "cell_type": "code",
   "execution_count": null,
   "metadata": {},
   "outputs": [],
   "source": [
    "# https://machinelearningmastery.com/time-series-forecast-study-python-monthly-sales-french-champagne/"
   ]
  },
  {
   "cell_type": "code",
   "execution_count": null,
   "metadata": {},
   "outputs": [],
   "source": [
    "from pandas import Series\n",
    "from statsmodels.tsa.arima_model import ARIMAResults\n",
    "import numpy\n",
    " "
   ]
  },
  {
   "cell_type": "code",
   "execution_count": null,
   "metadata": {},
   "outputs": [],
   "source": [
    "# invert differenced value\n",
    "def inverse_difference(history, yhat, interval=1):\n",
    "\treturn yhat + history[-interval]"
   ]
  },
  {
   "cell_type": "code",
   "execution_count": null,
   "metadata": {},
   "outputs": [],
   "source": [
    "series = Series.from_csv('mldata_clean.csv')\n",
    "months_in_year = 12\n",
    "model_fit = ARIMAResults.load('model.pkl')\n",
    "bias = numpy.load('model_bias.npy')\n",
    "yhat = float(model_fit.forecast()[0])\n",
    "yhat = bias + inverse_difference(series.values, yhat, months_in_year)\n",
    "print('Predicted: %.3f' % yhat)"
   ]
  },
  {
   "cell_type": "code",
   "execution_count": null,
   "metadata": {},
   "outputs": [],
   "source": [
    "# Make pipline\n",
    "pipe = make_pipeline(StandardScaler(), LinearRegression())\n",
    "pipe.fit(X_train_std, y_train)\n",
    "joblib.dump(pipe, 'model.pkl')"
   ]
  },
  {
   "cell_type": "code",
   "execution_count": null,
   "metadata": {},
   "outputs": [],
   "source": [
    "#Loading the saved model with joblib\n",
    "pipe = joblib.load('model.pkl')"
   ]
  },
  {
   "cell_type": "code",
   "execution_count": null,
   "metadata": {},
   "outputs": [],
   "source": [
    "# New data to predict\n",
    "pr = pd.read_csv('mldata_clean.csv')\n",
    "pred_cols = list(pr.columns.values)[:-1]"
   ]
  },
  {
   "cell_type": "code",
   "execution_count": null,
   "metadata": {},
   "outputs": [],
   "source": [
    "# apply the whole pipeline to data\n",
    "pred = pd.Series(pipe.predict(pr[pred_cols]))\n",
    "print(pred)"
   ]
  },
  {
   "cell_type": "code",
   "execution_count": null,
   "metadata": {},
   "outputs": [],
   "source": []
  }
 ],
 "metadata": {
  "kernelspec": {
   "display_name": "Python 3",
   "language": "python",
   "name": "python3"
  },
  "language_info": {
   "codemirror_mode": {
    "name": "ipython",
    "version": 3
   },
   "file_extension": ".py",
   "mimetype": "text/x-python",
   "name": "python",
   "nbconvert_exporter": "python",
   "pygments_lexer": "ipython3",
   "version": "3.6.7"
  }
 },
 "nbformat": 4,
 "nbformat_minor": 2
}
